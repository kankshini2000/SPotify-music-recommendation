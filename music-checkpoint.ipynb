{
 "cells": [
  {
   "cell_type": "code",
   "execution_count": 23,
   "id": "dc78d2fb",
   "metadata": {},
   "outputs": [
    {
     "name": "stdout",
     "output_type": "stream",
     "text": [
      "Collecting sweetviz\n",
      "  Downloading sweetviz-2.1.3-py3-none-any.whl (15.1 MB)\n",
      "Requirement already satisfied: jinja2>=2.11.1 in c:\\users\\user\\anaconda3\\lib\\site-packages (from sweetviz) (2.11.3)\n",
      "Requirement already satisfied: pandas!=1.0.0,!=1.0.1,!=1.0.2,>=0.25.3 in c:\\users\\user\\anaconda3\\lib\\site-packages (from sweetviz) (1.2.4)\n",
      "Requirement already satisfied: tqdm>=4.43.0 in c:\\users\\user\\anaconda3\\lib\\site-packages (from sweetviz) (4.59.0)\n",
      "Requirement already satisfied: matplotlib>=3.1.3 in c:\\users\\user\\anaconda3\\lib\\site-packages (from sweetviz) (3.3.4)\n",
      "Requirement already satisfied: numpy>=1.16.0 in c:\\users\\user\\anaconda3\\lib\\site-packages (from sweetviz) (1.20.1)\n",
      "Collecting importlib-resources>=1.2.0\n",
      "  Downloading importlib_resources-5.2.2-py3-none-any.whl (27 kB)\n",
      "Requirement already satisfied: scipy>=1.3.2 in c:\\users\\user\\anaconda3\\lib\\site-packages (from sweetviz) (1.6.2)\n",
      "Requirement already satisfied: zipp>=3.1.0 in c:\\users\\user\\anaconda3\\lib\\site-packages (from importlib-resources>=1.2.0->sweetviz) (3.4.1)\n",
      "Requirement already satisfied: MarkupSafe>=0.23 in c:\\users\\user\\anaconda3\\lib\\site-packages (from jinja2>=2.11.1->sweetviz) (1.1.1)\n",
      "Requirement already satisfied: python-dateutil>=2.1 in c:\\users\\user\\anaconda3\\lib\\site-packages (from matplotlib>=3.1.3->sweetviz) (2.8.1)\n",
      "Requirement already satisfied: kiwisolver>=1.0.1 in c:\\users\\user\\anaconda3\\lib\\site-packages (from matplotlib>=3.1.3->sweetviz) (1.3.1)\n",
      "Requirement already satisfied: cycler>=0.10 in c:\\users\\user\\anaconda3\\lib\\site-packages (from matplotlib>=3.1.3->sweetviz) (0.10.0)\n",
      "Requirement already satisfied: pyparsing!=2.0.4,!=2.1.2,!=2.1.6,>=2.0.3 in c:\\users\\user\\anaconda3\\lib\\site-packages (from matplotlib>=3.1.3->sweetviz) (2.4.7)\n",
      "Requirement already satisfied: pillow>=6.2.0 in c:\\users\\user\\anaconda3\\lib\\site-packages (from matplotlib>=3.1.3->sweetviz) (8.2.0)\n",
      "Requirement already satisfied: six in c:\\users\\user\\anaconda3\\lib\\site-packages (from cycler>=0.10->matplotlib>=3.1.3->sweetviz) (1.15.0)\n",
      "Requirement already satisfied: pytz>=2017.3 in c:\\users\\user\\anaconda3\\lib\\site-packages (from pandas!=1.0.0,!=1.0.1,!=1.0.2,>=0.25.3->sweetviz) (2021.1)\n",
      "Installing collected packages: importlib-resources, sweetviz\n",
      "Successfully installed importlib-resources-5.2.2 sweetviz-2.1.3\n"
     ]
    }
   ],
   "source": [
    "!pip install sweetviz"
   ]
  },
  {
   "cell_type": "code",
   "execution_count": 27,
   "id": "4e6c70dd",
   "metadata": {},
   "outputs": [
    {
     "name": "stdout",
     "output_type": "stream",
     "text": [
      "Collecting plotly\n",
      "  Downloading plotly-5.3.1-py2.py3-none-any.whl (23.9 MB)\n",
      "Requirement already satisfied: six in c:\\users\\user\\anaconda3\\lib\\site-packages (from plotly) (1.15.0)\n",
      "Collecting tenacity>=6.2.0\n",
      "  Downloading tenacity-8.0.1-py3-none-any.whl (24 kB)\n",
      "Installing collected packages: tenacity, plotly\n",
      "Successfully installed plotly-5.3.1 tenacity-8.0.1\n"
     ]
    }
   ],
   "source": [
    "!pip install plotly"
   ]
  },
  {
   "cell_type": "code",
   "execution_count": 1,
   "id": "ca27c222",
   "metadata": {},
   "outputs": [],
   "source": [
    "import numpy as np \n",
    "import pandas as pd \n",
    "import math\n",
    "import matplotlib.pyplot as plt\n",
    "import seaborn as sns"
   ]
  },
  {
   "cell_type": "code",
   "execution_count": 2,
   "id": "b79885db",
   "metadata": {},
   "outputs": [],
   "source": [
    "songs = pd.read_csv(r'C:\\Users\\User\\projects\\Music recommendation\\tracks_features.csv')"
   ]
  },
  {
   "cell_type": "markdown",
   "id": "2bc919d0",
   "metadata": {},
   "source": [
    "# List of songs to get idea"
   ]
  },
  {
   "cell_type": "code",
   "execution_count": 3,
   "id": "54f41608",
   "metadata": {
    "scrolled": false
   },
   "outputs": [
    {
     "data": {
      "text/html": [
       "<div>\n",
       "<style scoped>\n",
       "    .dataframe tbody tr th:only-of-type {\n",
       "        vertical-align: middle;\n",
       "    }\n",
       "\n",
       "    .dataframe tbody tr th {\n",
       "        vertical-align: top;\n",
       "    }\n",
       "\n",
       "    .dataframe thead th {\n",
       "        text-align: right;\n",
       "    }\n",
       "</style>\n",
       "<table border=\"1\" class=\"dataframe\">\n",
       "  <thead>\n",
       "    <tr style=\"text-align: right;\">\n",
       "      <th></th>\n",
       "      <th>id</th>\n",
       "      <th>name</th>\n",
       "      <th>album</th>\n",
       "      <th>album_id</th>\n",
       "      <th>artists</th>\n",
       "      <th>artist_ids</th>\n",
       "      <th>track_number</th>\n",
       "      <th>disc_number</th>\n",
       "      <th>explicit</th>\n",
       "      <th>danceability</th>\n",
       "      <th>...</th>\n",
       "      <th>speechiness</th>\n",
       "      <th>acousticness</th>\n",
       "      <th>instrumentalness</th>\n",
       "      <th>liveness</th>\n",
       "      <th>valence</th>\n",
       "      <th>tempo</th>\n",
       "      <th>duration_ms</th>\n",
       "      <th>time_signature</th>\n",
       "      <th>year</th>\n",
       "      <th>release_date</th>\n",
       "    </tr>\n",
       "  </thead>\n",
       "  <tbody>\n",
       "    <tr>\n",
       "      <th>0</th>\n",
       "      <td>7lmeHLHBe4nmXzuXc0HDjk</td>\n",
       "      <td>Testify</td>\n",
       "      <td>The Battle Of Los Angeles</td>\n",
       "      <td>2eia0myWFgoHuttJytCxgX</td>\n",
       "      <td>['Rage Against The Machine']</td>\n",
       "      <td>['2d0hyoQ5ynDBnkvAbJKORj']</td>\n",
       "      <td>1</td>\n",
       "      <td>1</td>\n",
       "      <td>False</td>\n",
       "      <td>0.470</td>\n",
       "      <td>...</td>\n",
       "      <td>0.0727</td>\n",
       "      <td>0.02610</td>\n",
       "      <td>0.000011</td>\n",
       "      <td>0.3560</td>\n",
       "      <td>0.503</td>\n",
       "      <td>117.906</td>\n",
       "      <td>210133</td>\n",
       "      <td>4.0</td>\n",
       "      <td>1999</td>\n",
       "      <td>1999-11-02</td>\n",
       "    </tr>\n",
       "    <tr>\n",
       "      <th>1</th>\n",
       "      <td>1wsRitfRRtWyEapl0q22o8</td>\n",
       "      <td>Guerrilla Radio</td>\n",
       "      <td>The Battle Of Los Angeles</td>\n",
       "      <td>2eia0myWFgoHuttJytCxgX</td>\n",
       "      <td>['Rage Against The Machine']</td>\n",
       "      <td>['2d0hyoQ5ynDBnkvAbJKORj']</td>\n",
       "      <td>2</td>\n",
       "      <td>1</td>\n",
       "      <td>True</td>\n",
       "      <td>0.599</td>\n",
       "      <td>...</td>\n",
       "      <td>0.1880</td>\n",
       "      <td>0.01290</td>\n",
       "      <td>0.000071</td>\n",
       "      <td>0.1550</td>\n",
       "      <td>0.489</td>\n",
       "      <td>103.680</td>\n",
       "      <td>206200</td>\n",
       "      <td>4.0</td>\n",
       "      <td>1999</td>\n",
       "      <td>1999-11-02</td>\n",
       "    </tr>\n",
       "    <tr>\n",
       "      <th>2</th>\n",
       "      <td>1hR0fIFK2qRG3f3RF70pb7</td>\n",
       "      <td>Calm Like a Bomb</td>\n",
       "      <td>The Battle Of Los Angeles</td>\n",
       "      <td>2eia0myWFgoHuttJytCxgX</td>\n",
       "      <td>['Rage Against The Machine']</td>\n",
       "      <td>['2d0hyoQ5ynDBnkvAbJKORj']</td>\n",
       "      <td>3</td>\n",
       "      <td>1</td>\n",
       "      <td>False</td>\n",
       "      <td>0.315</td>\n",
       "      <td>...</td>\n",
       "      <td>0.4830</td>\n",
       "      <td>0.02340</td>\n",
       "      <td>0.000002</td>\n",
       "      <td>0.1220</td>\n",
       "      <td>0.370</td>\n",
       "      <td>149.749</td>\n",
       "      <td>298893</td>\n",
       "      <td>4.0</td>\n",
       "      <td>1999</td>\n",
       "      <td>1999-11-02</td>\n",
       "    </tr>\n",
       "    <tr>\n",
       "      <th>3</th>\n",
       "      <td>2lbASgTSoDO7MTuLAXlTW0</td>\n",
       "      <td>Mic Check</td>\n",
       "      <td>The Battle Of Los Angeles</td>\n",
       "      <td>2eia0myWFgoHuttJytCxgX</td>\n",
       "      <td>['Rage Against The Machine']</td>\n",
       "      <td>['2d0hyoQ5ynDBnkvAbJKORj']</td>\n",
       "      <td>4</td>\n",
       "      <td>1</td>\n",
       "      <td>True</td>\n",
       "      <td>0.440</td>\n",
       "      <td>...</td>\n",
       "      <td>0.2370</td>\n",
       "      <td>0.16300</td>\n",
       "      <td>0.000004</td>\n",
       "      <td>0.1210</td>\n",
       "      <td>0.574</td>\n",
       "      <td>96.752</td>\n",
       "      <td>213640</td>\n",
       "      <td>4.0</td>\n",
       "      <td>1999</td>\n",
       "      <td>1999-11-02</td>\n",
       "    </tr>\n",
       "    <tr>\n",
       "      <th>4</th>\n",
       "      <td>1MQTmpYOZ6fcMQc56Hdo7T</td>\n",
       "      <td>Sleep Now In the Fire</td>\n",
       "      <td>The Battle Of Los Angeles</td>\n",
       "      <td>2eia0myWFgoHuttJytCxgX</td>\n",
       "      <td>['Rage Against The Machine']</td>\n",
       "      <td>['2d0hyoQ5ynDBnkvAbJKORj']</td>\n",
       "      <td>5</td>\n",
       "      <td>1</td>\n",
       "      <td>False</td>\n",
       "      <td>0.426</td>\n",
       "      <td>...</td>\n",
       "      <td>0.0701</td>\n",
       "      <td>0.00162</td>\n",
       "      <td>0.105000</td>\n",
       "      <td>0.0789</td>\n",
       "      <td>0.539</td>\n",
       "      <td>127.059</td>\n",
       "      <td>205600</td>\n",
       "      <td>4.0</td>\n",
       "      <td>1999</td>\n",
       "      <td>1999-11-02</td>\n",
       "    </tr>\n",
       "    <tr>\n",
       "      <th>...</th>\n",
       "      <td>...</td>\n",
       "      <td>...</td>\n",
       "      <td>...</td>\n",
       "      <td>...</td>\n",
       "      <td>...</td>\n",
       "      <td>...</td>\n",
       "      <td>...</td>\n",
       "      <td>...</td>\n",
       "      <td>...</td>\n",
       "      <td>...</td>\n",
       "      <td>...</td>\n",
       "      <td>...</td>\n",
       "      <td>...</td>\n",
       "      <td>...</td>\n",
       "      <td>...</td>\n",
       "      <td>...</td>\n",
       "      <td>...</td>\n",
       "      <td>...</td>\n",
       "      <td>...</td>\n",
       "      <td>...</td>\n",
       "      <td>...</td>\n",
       "    </tr>\n",
       "    <tr>\n",
       "      <th>1204020</th>\n",
       "      <td>0EsMifwUmMfJZxzoMPXJKZ</td>\n",
       "      <td>Gospel of Juke</td>\n",
       "      <td>Notch - EP</td>\n",
       "      <td>38O5Ys0W9PFS5K7dMb7yKb</td>\n",
       "      <td>['FVLCRVM']</td>\n",
       "      <td>['7AjItKsRnEYRSiBt2OxK1y']</td>\n",
       "      <td>2</td>\n",
       "      <td>1</td>\n",
       "      <td>False</td>\n",
       "      <td>0.264</td>\n",
       "      <td>...</td>\n",
       "      <td>0.0672</td>\n",
       "      <td>0.00935</td>\n",
       "      <td>0.002240</td>\n",
       "      <td>0.3370</td>\n",
       "      <td>0.415</td>\n",
       "      <td>159.586</td>\n",
       "      <td>276213</td>\n",
       "      <td>4.0</td>\n",
       "      <td>2014</td>\n",
       "      <td>2014-01-09</td>\n",
       "    </tr>\n",
       "    <tr>\n",
       "      <th>1204021</th>\n",
       "      <td>2WSc2TB1CSJgGE0PEzVeiu</td>\n",
       "      <td>Prism Visions</td>\n",
       "      <td>Notch - EP</td>\n",
       "      <td>38O5Ys0W9PFS5K7dMb7yKb</td>\n",
       "      <td>['FVLCRVM']</td>\n",
       "      <td>['7AjItKsRnEYRSiBt2OxK1y']</td>\n",
       "      <td>3</td>\n",
       "      <td>1</td>\n",
       "      <td>False</td>\n",
       "      <td>0.796</td>\n",
       "      <td>...</td>\n",
       "      <td>0.0883</td>\n",
       "      <td>0.10400</td>\n",
       "      <td>0.644000</td>\n",
       "      <td>0.0749</td>\n",
       "      <td>0.781</td>\n",
       "      <td>121.980</td>\n",
       "      <td>363179</td>\n",
       "      <td>4.0</td>\n",
       "      <td>2014</td>\n",
       "      <td>2014-01-09</td>\n",
       "    </tr>\n",
       "    <tr>\n",
       "      <th>1204022</th>\n",
       "      <td>6iProIgUe3ETpO6UT0v5Hg</td>\n",
       "      <td>Tokyo 360</td>\n",
       "      <td>Notch - EP</td>\n",
       "      <td>38O5Ys0W9PFS5K7dMb7yKb</td>\n",
       "      <td>['FVLCRVM']</td>\n",
       "      <td>['7AjItKsRnEYRSiBt2OxK1y']</td>\n",
       "      <td>4</td>\n",
       "      <td>1</td>\n",
       "      <td>False</td>\n",
       "      <td>0.785</td>\n",
       "      <td>...</td>\n",
       "      <td>0.0564</td>\n",
       "      <td>0.03040</td>\n",
       "      <td>0.918000</td>\n",
       "      <td>0.0664</td>\n",
       "      <td>0.467</td>\n",
       "      <td>121.996</td>\n",
       "      <td>385335</td>\n",
       "      <td>4.0</td>\n",
       "      <td>2014</td>\n",
       "      <td>2014-01-09</td>\n",
       "    </tr>\n",
       "    <tr>\n",
       "      <th>1204023</th>\n",
       "      <td>37B4SXC8uoBsUyKCWnhPfX</td>\n",
       "      <td>Yummy!</td>\n",
       "      <td>Notch - EP</td>\n",
       "      <td>38O5Ys0W9PFS5K7dMb7yKb</td>\n",
       "      <td>['FVLCRVM']</td>\n",
       "      <td>['7AjItKsRnEYRSiBt2OxK1y']</td>\n",
       "      <td>5</td>\n",
       "      <td>1</td>\n",
       "      <td>False</td>\n",
       "      <td>0.665</td>\n",
       "      <td>...</td>\n",
       "      <td>0.0409</td>\n",
       "      <td>0.00007</td>\n",
       "      <td>0.776000</td>\n",
       "      <td>0.1170</td>\n",
       "      <td>0.227</td>\n",
       "      <td>124.986</td>\n",
       "      <td>324455</td>\n",
       "      <td>4.0</td>\n",
       "      <td>2014</td>\n",
       "      <td>2014-01-09</td>\n",
       "    </tr>\n",
       "    <tr>\n",
       "      <th>1204024</th>\n",
       "      <td>3GgQmOxxLyRoAb4j86zOBX</td>\n",
       "      <td>That's The Way It Is</td>\n",
       "      <td>Notch - EP</td>\n",
       "      <td>38O5Ys0W9PFS5K7dMb7yKb</td>\n",
       "      <td>['FVLCRVM']</td>\n",
       "      <td>['7AjItKsRnEYRSiBt2OxK1y']</td>\n",
       "      <td>6</td>\n",
       "      <td>1</td>\n",
       "      <td>False</td>\n",
       "      <td>0.736</td>\n",
       "      <td>...</td>\n",
       "      <td>0.0539</td>\n",
       "      <td>0.01680</td>\n",
       "      <td>0.296000</td>\n",
       "      <td>0.2790</td>\n",
       "      <td>0.204</td>\n",
       "      <td>117.991</td>\n",
       "      <td>304982</td>\n",
       "      <td>4.0</td>\n",
       "      <td>2014</td>\n",
       "      <td>2014-01-09</td>\n",
       "    </tr>\n",
       "  </tbody>\n",
       "</table>\n",
       "<p>1204025 rows × 24 columns</p>\n",
       "</div>"
      ],
      "text/plain": [
       "                             id                   name  \\\n",
       "0        7lmeHLHBe4nmXzuXc0HDjk                Testify   \n",
       "1        1wsRitfRRtWyEapl0q22o8        Guerrilla Radio   \n",
       "2        1hR0fIFK2qRG3f3RF70pb7       Calm Like a Bomb   \n",
       "3        2lbASgTSoDO7MTuLAXlTW0              Mic Check   \n",
       "4        1MQTmpYOZ6fcMQc56Hdo7T  Sleep Now In the Fire   \n",
       "...                         ...                    ...   \n",
       "1204020  0EsMifwUmMfJZxzoMPXJKZ         Gospel of Juke   \n",
       "1204021  2WSc2TB1CSJgGE0PEzVeiu          Prism Visions   \n",
       "1204022  6iProIgUe3ETpO6UT0v5Hg              Tokyo 360   \n",
       "1204023  37B4SXC8uoBsUyKCWnhPfX                 Yummy!   \n",
       "1204024  3GgQmOxxLyRoAb4j86zOBX   That's The Way It Is   \n",
       "\n",
       "                             album                album_id  \\\n",
       "0        The Battle Of Los Angeles  2eia0myWFgoHuttJytCxgX   \n",
       "1        The Battle Of Los Angeles  2eia0myWFgoHuttJytCxgX   \n",
       "2        The Battle Of Los Angeles  2eia0myWFgoHuttJytCxgX   \n",
       "3        The Battle Of Los Angeles  2eia0myWFgoHuttJytCxgX   \n",
       "4        The Battle Of Los Angeles  2eia0myWFgoHuttJytCxgX   \n",
       "...                            ...                     ...   \n",
       "1204020                 Notch - EP  38O5Ys0W9PFS5K7dMb7yKb   \n",
       "1204021                 Notch - EP  38O5Ys0W9PFS5K7dMb7yKb   \n",
       "1204022                 Notch - EP  38O5Ys0W9PFS5K7dMb7yKb   \n",
       "1204023                 Notch - EP  38O5Ys0W9PFS5K7dMb7yKb   \n",
       "1204024                 Notch - EP  38O5Ys0W9PFS5K7dMb7yKb   \n",
       "\n",
       "                              artists                  artist_ids  \\\n",
       "0        ['Rage Against The Machine']  ['2d0hyoQ5ynDBnkvAbJKORj']   \n",
       "1        ['Rage Against The Machine']  ['2d0hyoQ5ynDBnkvAbJKORj']   \n",
       "2        ['Rage Against The Machine']  ['2d0hyoQ5ynDBnkvAbJKORj']   \n",
       "3        ['Rage Against The Machine']  ['2d0hyoQ5ynDBnkvAbJKORj']   \n",
       "4        ['Rage Against The Machine']  ['2d0hyoQ5ynDBnkvAbJKORj']   \n",
       "...                               ...                         ...   \n",
       "1204020                   ['FVLCRVM']  ['7AjItKsRnEYRSiBt2OxK1y']   \n",
       "1204021                   ['FVLCRVM']  ['7AjItKsRnEYRSiBt2OxK1y']   \n",
       "1204022                   ['FVLCRVM']  ['7AjItKsRnEYRSiBt2OxK1y']   \n",
       "1204023                   ['FVLCRVM']  ['7AjItKsRnEYRSiBt2OxK1y']   \n",
       "1204024                   ['FVLCRVM']  ['7AjItKsRnEYRSiBt2OxK1y']   \n",
       "\n",
       "         track_number  disc_number  explicit  danceability  ...  speechiness  \\\n",
       "0                   1            1     False         0.470  ...       0.0727   \n",
       "1                   2            1      True         0.599  ...       0.1880   \n",
       "2                   3            1     False         0.315  ...       0.4830   \n",
       "3                   4            1      True         0.440  ...       0.2370   \n",
       "4                   5            1     False         0.426  ...       0.0701   \n",
       "...               ...          ...       ...           ...  ...          ...   \n",
       "1204020             2            1     False         0.264  ...       0.0672   \n",
       "1204021             3            1     False         0.796  ...       0.0883   \n",
       "1204022             4            1     False         0.785  ...       0.0564   \n",
       "1204023             5            1     False         0.665  ...       0.0409   \n",
       "1204024             6            1     False         0.736  ...       0.0539   \n",
       "\n",
       "         acousticness  instrumentalness  liveness  valence    tempo  \\\n",
       "0             0.02610          0.000011    0.3560    0.503  117.906   \n",
       "1             0.01290          0.000071    0.1550    0.489  103.680   \n",
       "2             0.02340          0.000002    0.1220    0.370  149.749   \n",
       "3             0.16300          0.000004    0.1210    0.574   96.752   \n",
       "4             0.00162          0.105000    0.0789    0.539  127.059   \n",
       "...               ...               ...       ...      ...      ...   \n",
       "1204020       0.00935          0.002240    0.3370    0.415  159.586   \n",
       "1204021       0.10400          0.644000    0.0749    0.781  121.980   \n",
       "1204022       0.03040          0.918000    0.0664    0.467  121.996   \n",
       "1204023       0.00007          0.776000    0.1170    0.227  124.986   \n",
       "1204024       0.01680          0.296000    0.2790    0.204  117.991   \n",
       "\n",
       "         duration_ms  time_signature  year  release_date  \n",
       "0             210133             4.0  1999    1999-11-02  \n",
       "1             206200             4.0  1999    1999-11-02  \n",
       "2             298893             4.0  1999    1999-11-02  \n",
       "3             213640             4.0  1999    1999-11-02  \n",
       "4             205600             4.0  1999    1999-11-02  \n",
       "...              ...             ...   ...           ...  \n",
       "1204020       276213             4.0  2014    2014-01-09  \n",
       "1204021       363179             4.0  2014    2014-01-09  \n",
       "1204022       385335             4.0  2014    2014-01-09  \n",
       "1204023       324455             4.0  2014    2014-01-09  \n",
       "1204024       304982             4.0  2014    2014-01-09  \n",
       "\n",
       "[1204025 rows x 24 columns]"
      ]
     },
     "execution_count": 3,
     "metadata": {},
     "output_type": "execute_result"
    }
   ],
   "source": [
    "songs"
   ]
  },
  {
   "cell_type": "code",
   "execution_count": 4,
   "id": "4729cd05",
   "metadata": {},
   "outputs": [
    {
     "data": {
      "text/plain": [
       "(1204025, 24)"
      ]
     },
     "execution_count": 4,
     "metadata": {},
     "output_type": "execute_result"
    }
   ],
   "source": [
    "songs.shape"
   ]
  },
  {
   "cell_type": "markdown",
   "id": "acc12c97",
   "metadata": {},
   "source": [
    "# Information about the data"
   ]
  },
  {
   "cell_type": "code",
   "execution_count": 5,
   "id": "706b5ee1",
   "metadata": {},
   "outputs": [
    {
     "data": {
      "text/plain": [
       "id                   object\n",
       "name                 object\n",
       "album                object\n",
       "album_id             object\n",
       "artists              object\n",
       "artist_ids           object\n",
       "track_number          int64\n",
       "disc_number           int64\n",
       "explicit               bool\n",
       "danceability        float64\n",
       "energy              float64\n",
       "key                   int64\n",
       "loudness            float64\n",
       "mode                  int64\n",
       "speechiness         float64\n",
       "acousticness        float64\n",
       "instrumentalness    float64\n",
       "liveness            float64\n",
       "valence             float64\n",
       "tempo               float64\n",
       "duration_ms           int64\n",
       "time_signature      float64\n",
       "year                  int64\n",
       "release_date         object\n",
       "dtype: object"
      ]
     },
     "execution_count": 5,
     "metadata": {},
     "output_type": "execute_result"
    }
   ],
   "source": [
    "songs.dtypes"
   ]
  },
  {
   "cell_type": "code",
   "execution_count": 6,
   "id": "35537080",
   "metadata": {},
   "outputs": [
    {
     "name": "stdout",
     "output_type": "stream",
     "text": [
      "<class 'pandas.core.frame.DataFrame'>\n",
      "RangeIndex: 1204025 entries, 0 to 1204024\n",
      "Data columns (total 24 columns):\n",
      " #   Column            Non-Null Count    Dtype  \n",
      "---  ------            --------------    -----  \n",
      " 0   id                1204025 non-null  object \n",
      " 1   name              1204025 non-null  object \n",
      " 2   album             1204025 non-null  object \n",
      " 3   album_id          1204025 non-null  object \n",
      " 4   artists           1204025 non-null  object \n",
      " 5   artist_ids        1204025 non-null  object \n",
      " 6   track_number      1204025 non-null  int64  \n",
      " 7   disc_number       1204025 non-null  int64  \n",
      " 8   explicit          1204025 non-null  bool   \n",
      " 9   danceability      1204025 non-null  float64\n",
      " 10  energy            1204025 non-null  float64\n",
      " 11  key               1204025 non-null  int64  \n",
      " 12  loudness          1204025 non-null  float64\n",
      " 13  mode              1204025 non-null  int64  \n",
      " 14  speechiness       1204025 non-null  float64\n",
      " 15  acousticness      1204025 non-null  float64\n",
      " 16  instrumentalness  1204025 non-null  float64\n",
      " 17  liveness          1204025 non-null  float64\n",
      " 18  valence           1204025 non-null  float64\n",
      " 19  tempo             1204025 non-null  float64\n",
      " 20  duration_ms       1204025 non-null  int64  \n",
      " 21  time_signature    1204025 non-null  float64\n",
      " 22  year              1204025 non-null  int64  \n",
      " 23  release_date      1204025 non-null  object \n",
      "dtypes: bool(1), float64(10), int64(6), object(7)\n",
      "memory usage: 212.4+ MB\n"
     ]
    }
   ],
   "source": [
    "songs.info()"
   ]
  },
  {
   "cell_type": "code",
   "execution_count": 7,
   "id": "6a9bfd1b",
   "metadata": {},
   "outputs": [
    {
     "data": {
      "text/plain": [
       "['Various Artists']                              1753\n",
       "['Vitamin String Quartet']                       1577\n",
       "['Aretha Franklin']                              1209\n",
       "['The City of Prague Philharmonic Orchestra']    1042\n",
       "[\"Dan Gibson's Solitudes\"]                        997\n",
       "['Bob Dylan']                                     913\n",
       "['The Fall']                                      812\n",
       "[\"Pickin' On Series\"]                             774\n",
       "['Dolly Parton']                                  747\n",
       "['Guided By Voices']                              739\n",
       "Name: artists, dtype: int64"
      ]
     },
     "execution_count": 7,
     "metadata": {},
     "output_type": "execute_result"
    }
   ],
   "source": [
    "songs['artists'].value_counts().head(10)"
   ]
  },
  {
   "cell_type": "code",
   "execution_count": 8,
   "id": "202b6a36",
   "metadata": {},
   "outputs": [],
   "source": [
    "songs.drop_duplicates(keep=False,inplace=True)"
   ]
  },
  {
   "cell_type": "code",
   "execution_count": 9,
   "id": "4eca4b72",
   "metadata": {},
   "outputs": [
    {
     "data": {
      "text/html": [
       "<div>\n",
       "<style scoped>\n",
       "    .dataframe tbody tr th:only-of-type {\n",
       "        vertical-align: middle;\n",
       "    }\n",
       "\n",
       "    .dataframe tbody tr th {\n",
       "        vertical-align: top;\n",
       "    }\n",
       "\n",
       "    .dataframe thead th {\n",
       "        text-align: right;\n",
       "    }\n",
       "</style>\n",
       "<table border=\"1\" class=\"dataframe\">\n",
       "  <thead>\n",
       "    <tr style=\"text-align: right;\">\n",
       "      <th></th>\n",
       "      <th>track_number</th>\n",
       "      <th>disc_number</th>\n",
       "      <th>danceability</th>\n",
       "      <th>energy</th>\n",
       "      <th>key</th>\n",
       "      <th>loudness</th>\n",
       "      <th>mode</th>\n",
       "      <th>speechiness</th>\n",
       "      <th>acousticness</th>\n",
       "      <th>instrumentalness</th>\n",
       "      <th>liveness</th>\n",
       "      <th>valence</th>\n",
       "      <th>tempo</th>\n",
       "      <th>duration_ms</th>\n",
       "      <th>time_signature</th>\n",
       "      <th>year</th>\n",
       "    </tr>\n",
       "  </thead>\n",
       "  <tbody>\n",
       "    <tr>\n",
       "      <th>count</th>\n",
       "      <td>1.204025e+06</td>\n",
       "      <td>1.204025e+06</td>\n",
       "      <td>1.204025e+06</td>\n",
       "      <td>1.204025e+06</td>\n",
       "      <td>1.204025e+06</td>\n",
       "      <td>1.204025e+06</td>\n",
       "      <td>1.204025e+06</td>\n",
       "      <td>1.204025e+06</td>\n",
       "      <td>1.204025e+06</td>\n",
       "      <td>1.204025e+06</td>\n",
       "      <td>1.204025e+06</td>\n",
       "      <td>1.204025e+06</td>\n",
       "      <td>1.204025e+06</td>\n",
       "      <td>1.204025e+06</td>\n",
       "      <td>1.204025e+06</td>\n",
       "      <td>1.204025e+06</td>\n",
       "    </tr>\n",
       "    <tr>\n",
       "      <th>mean</th>\n",
       "      <td>7.656352e+00</td>\n",
       "      <td>1.055906e+00</td>\n",
       "      <td>4.930565e-01</td>\n",
       "      <td>5.095363e-01</td>\n",
       "      <td>5.194151e+00</td>\n",
       "      <td>-1.180870e+01</td>\n",
       "      <td>6.714595e-01</td>\n",
       "      <td>8.438219e-02</td>\n",
       "      <td>4.467511e-01</td>\n",
       "      <td>2.828605e-01</td>\n",
       "      <td>2.015994e-01</td>\n",
       "      <td>4.279866e-01</td>\n",
       "      <td>1.176344e+02</td>\n",
       "      <td>2.488399e+05</td>\n",
       "      <td>3.832494e+00</td>\n",
       "      <td>2.007328e+03</td>\n",
       "    </tr>\n",
       "    <tr>\n",
       "      <th>std</th>\n",
       "      <td>5.994977e+00</td>\n",
       "      <td>2.953752e-01</td>\n",
       "      <td>1.896694e-01</td>\n",
       "      <td>2.946839e-01</td>\n",
       "      <td>3.536731e+00</td>\n",
       "      <td>6.982132e+00</td>\n",
       "      <td>4.696827e-01</td>\n",
       "      <td>1.159914e-01</td>\n",
       "      <td>3.852014e-01</td>\n",
       "      <td>3.762844e-01</td>\n",
       "      <td>1.804591e-01</td>\n",
       "      <td>2.704846e-01</td>\n",
       "      <td>3.093705e+01</td>\n",
       "      <td>1.622104e+05</td>\n",
       "      <td>5.611826e-01</td>\n",
       "      <td>1.210117e+01</td>\n",
       "    </tr>\n",
       "    <tr>\n",
       "      <th>min</th>\n",
       "      <td>1.000000e+00</td>\n",
       "      <td>1.000000e+00</td>\n",
       "      <td>0.000000e+00</td>\n",
       "      <td>0.000000e+00</td>\n",
       "      <td>0.000000e+00</td>\n",
       "      <td>-6.000000e+01</td>\n",
       "      <td>0.000000e+00</td>\n",
       "      <td>0.000000e+00</td>\n",
       "      <td>0.000000e+00</td>\n",
       "      <td>0.000000e+00</td>\n",
       "      <td>0.000000e+00</td>\n",
       "      <td>0.000000e+00</td>\n",
       "      <td>0.000000e+00</td>\n",
       "      <td>1.000000e+03</td>\n",
       "      <td>0.000000e+00</td>\n",
       "      <td>0.000000e+00</td>\n",
       "    </tr>\n",
       "    <tr>\n",
       "      <th>25%</th>\n",
       "      <td>3.000000e+00</td>\n",
       "      <td>1.000000e+00</td>\n",
       "      <td>3.560000e-01</td>\n",
       "      <td>2.520000e-01</td>\n",
       "      <td>2.000000e+00</td>\n",
       "      <td>-1.525400e+01</td>\n",
       "      <td>0.000000e+00</td>\n",
       "      <td>3.510000e-02</td>\n",
       "      <td>3.760000e-02</td>\n",
       "      <td>7.600000e-06</td>\n",
       "      <td>9.680000e-02</td>\n",
       "      <td>1.910000e-01</td>\n",
       "      <td>9.405400e+01</td>\n",
       "      <td>1.740900e+05</td>\n",
       "      <td>4.000000e+00</td>\n",
       "      <td>2.002000e+03</td>\n",
       "    </tr>\n",
       "    <tr>\n",
       "      <th>50%</th>\n",
       "      <td>7.000000e+00</td>\n",
       "      <td>1.000000e+00</td>\n",
       "      <td>5.010000e-01</td>\n",
       "      <td>5.240000e-01</td>\n",
       "      <td>5.000000e+00</td>\n",
       "      <td>-9.791000e+00</td>\n",
       "      <td>1.000000e+00</td>\n",
       "      <td>4.460000e-02</td>\n",
       "      <td>3.890000e-01</td>\n",
       "      <td>8.080000e-03</td>\n",
       "      <td>1.250000e-01</td>\n",
       "      <td>4.030000e-01</td>\n",
       "      <td>1.167260e+02</td>\n",
       "      <td>2.243390e+05</td>\n",
       "      <td>4.000000e+00</td>\n",
       "      <td>2.009000e+03</td>\n",
       "    </tr>\n",
       "    <tr>\n",
       "      <th>75%</th>\n",
       "      <td>1.000000e+01</td>\n",
       "      <td>1.000000e+00</td>\n",
       "      <td>6.330000e-01</td>\n",
       "      <td>7.660000e-01</td>\n",
       "      <td>8.000000e+00</td>\n",
       "      <td>-6.717000e+00</td>\n",
       "      <td>1.000000e+00</td>\n",
       "      <td>7.230000e-02</td>\n",
       "      <td>8.610000e-01</td>\n",
       "      <td>7.190000e-01</td>\n",
       "      <td>2.450000e-01</td>\n",
       "      <td>6.440000e-01</td>\n",
       "      <td>1.370460e+02</td>\n",
       "      <td>2.858400e+05</td>\n",
       "      <td>4.000000e+00</td>\n",
       "      <td>2.015000e+03</td>\n",
       "    </tr>\n",
       "    <tr>\n",
       "      <th>max</th>\n",
       "      <td>5.000000e+01</td>\n",
       "      <td>1.300000e+01</td>\n",
       "      <td>1.000000e+00</td>\n",
       "      <td>1.000000e+00</td>\n",
       "      <td>1.100000e+01</td>\n",
       "      <td>7.234000e+00</td>\n",
       "      <td>1.000000e+00</td>\n",
       "      <td>9.690000e-01</td>\n",
       "      <td>9.960000e-01</td>\n",
       "      <td>1.000000e+00</td>\n",
       "      <td>1.000000e+00</td>\n",
       "      <td>1.000000e+00</td>\n",
       "      <td>2.489340e+02</td>\n",
       "      <td>6.061090e+06</td>\n",
       "      <td>5.000000e+00</td>\n",
       "      <td>2.020000e+03</td>\n",
       "    </tr>\n",
       "  </tbody>\n",
       "</table>\n",
       "</div>"
      ],
      "text/plain": [
       "       track_number   disc_number  danceability        energy           key  \\\n",
       "count  1.204025e+06  1.204025e+06  1.204025e+06  1.204025e+06  1.204025e+06   \n",
       "mean   7.656352e+00  1.055906e+00  4.930565e-01  5.095363e-01  5.194151e+00   \n",
       "std    5.994977e+00  2.953752e-01  1.896694e-01  2.946839e-01  3.536731e+00   \n",
       "min    1.000000e+00  1.000000e+00  0.000000e+00  0.000000e+00  0.000000e+00   \n",
       "25%    3.000000e+00  1.000000e+00  3.560000e-01  2.520000e-01  2.000000e+00   \n",
       "50%    7.000000e+00  1.000000e+00  5.010000e-01  5.240000e-01  5.000000e+00   \n",
       "75%    1.000000e+01  1.000000e+00  6.330000e-01  7.660000e-01  8.000000e+00   \n",
       "max    5.000000e+01  1.300000e+01  1.000000e+00  1.000000e+00  1.100000e+01   \n",
       "\n",
       "           loudness          mode   speechiness  acousticness  \\\n",
       "count  1.204025e+06  1.204025e+06  1.204025e+06  1.204025e+06   \n",
       "mean  -1.180870e+01  6.714595e-01  8.438219e-02  4.467511e-01   \n",
       "std    6.982132e+00  4.696827e-01  1.159914e-01  3.852014e-01   \n",
       "min   -6.000000e+01  0.000000e+00  0.000000e+00  0.000000e+00   \n",
       "25%   -1.525400e+01  0.000000e+00  3.510000e-02  3.760000e-02   \n",
       "50%   -9.791000e+00  1.000000e+00  4.460000e-02  3.890000e-01   \n",
       "75%   -6.717000e+00  1.000000e+00  7.230000e-02  8.610000e-01   \n",
       "max    7.234000e+00  1.000000e+00  9.690000e-01  9.960000e-01   \n",
       "\n",
       "       instrumentalness      liveness       valence         tempo  \\\n",
       "count      1.204025e+06  1.204025e+06  1.204025e+06  1.204025e+06   \n",
       "mean       2.828605e-01  2.015994e-01  4.279866e-01  1.176344e+02   \n",
       "std        3.762844e-01  1.804591e-01  2.704846e-01  3.093705e+01   \n",
       "min        0.000000e+00  0.000000e+00  0.000000e+00  0.000000e+00   \n",
       "25%        7.600000e-06  9.680000e-02  1.910000e-01  9.405400e+01   \n",
       "50%        8.080000e-03  1.250000e-01  4.030000e-01  1.167260e+02   \n",
       "75%        7.190000e-01  2.450000e-01  6.440000e-01  1.370460e+02   \n",
       "max        1.000000e+00  1.000000e+00  1.000000e+00  2.489340e+02   \n",
       "\n",
       "        duration_ms  time_signature          year  \n",
       "count  1.204025e+06    1.204025e+06  1.204025e+06  \n",
       "mean   2.488399e+05    3.832494e+00  2.007328e+03  \n",
       "std    1.622104e+05    5.611826e-01  1.210117e+01  \n",
       "min    1.000000e+03    0.000000e+00  0.000000e+00  \n",
       "25%    1.740900e+05    4.000000e+00  2.002000e+03  \n",
       "50%    2.243390e+05    4.000000e+00  2.009000e+03  \n",
       "75%    2.858400e+05    4.000000e+00  2.015000e+03  \n",
       "max    6.061090e+06    5.000000e+00  2.020000e+03  "
      ]
     },
     "execution_count": 9,
     "metadata": {},
     "output_type": "execute_result"
    }
   ],
   "source": [
    "songs.describe()"
   ]
  },
  {
   "cell_type": "markdown",
   "id": "e2adeec6",
   "metadata": {},
   "source": [
    "### check if there are nay missing value or not"
   ]
  },
  {
   "cell_type": "code",
   "execution_count": 10,
   "id": "be1a3a70",
   "metadata": {},
   "outputs": [
    {
     "data": {
      "text/plain": [
       "0"
      ]
     },
     "execution_count": 10,
     "metadata": {},
     "output_type": "execute_result"
    }
   ],
   "source": [
    "songs.isna().sum().sum()"
   ]
  },
  {
   "cell_type": "markdown",
   "id": "2f8cce8a",
   "metadata": {},
   "source": [
    "# there are no misssing value  "
   ]
  },
  {
   "cell_type": "markdown",
   "id": "d98eb3a0",
   "metadata": {},
   "source": [
    "# How many values are unique"
   ]
  },
  {
   "cell_type": "code",
   "execution_count": 11,
   "id": "9b3c07ba",
   "metadata": {},
   "outputs": [
    {
     "data": {
      "text/plain": [
       "2020    69726\n",
       "2019    67276\n",
       "2006    56945\n",
       "2007    56287\n",
       "2018    56167\n",
       "        ...  \n",
       "1909       25\n",
       "1935       20\n",
       "1908       19\n",
       "1900       14\n",
       "0          10\n",
       "Name: year, Length: 101, dtype: int64"
      ]
     },
     "execution_count": 11,
     "metadata": {},
     "output_type": "execute_result"
    }
   ],
   "source": [
    "songs['year'].value_counts()"
   ]
  },
  {
   "cell_type": "code",
   "execution_count": 12,
   "id": "3fba9249",
   "metadata": {},
   "outputs": [],
   "source": [
    "song=songs.drop(songs[songs.year==0].index)"
   ]
  },
  {
   "cell_type": "code",
   "execution_count": 13,
   "id": "ebe765ce",
   "metadata": {},
   "outputs": [
    {
     "data": {
      "text/plain": [
       "(1204015, 24)"
      ]
     },
     "execution_count": 13,
     "metadata": {},
     "output_type": "execute_result"
    }
   ],
   "source": [
    "song.shape"
   ]
  },
  {
   "cell_type": "markdown",
   "id": "59756e5b",
   "metadata": {},
   "source": [
    "# Song duration mean/median/mode"
   ]
  },
  {
   "cell_type": "code",
   "execution_count": 14,
   "id": "075a96a3",
   "metadata": {},
   "outputs": [
    {
     "name": "stdout",
     "output_type": "stream",
     "text": [
      "The duration mean of songs: 4:08\n",
      "The duration median of songs: 3:44\n",
      "The duration mode of songs: 4:00\n"
     ]
    }
   ],
   "source": [
    "song_duration_mean = songs['duration_ms'].mean()\n",
    "seconds=math.floor(song_duration_mean/1000)%60\n",
    "if seconds < 10:\n",
    "    seconds = '0' + str(seconds)\n",
    "minutes=(song_duration_mean/(1000*60))%60\n",
    "print (\"The duration mean of songs: %d:%s\" % (minutes, seconds))\n",
    "\n",
    "\n",
    "song_duration_median = songs['duration_ms'].median()\n",
    "seconds=math.floor(song_duration_median/1000)%60\n",
    "if seconds < 10:\n",
    "    seconds = '0' + str(seconds)\n",
    "minutes=(song_duration_median/(1000*60))%60\n",
    "print (\"The duration median of songs: %d:%s\" % (minutes, seconds))\n",
    "\n",
    "\n",
    "song_duration_mode = songs['duration_ms'].mode()\n",
    "seconds=math.floor(song_duration_mode/1000)%60\n",
    "if seconds < 10:\n",
    "    seconds = '0' + str(seconds)\n",
    "minutes=(song_duration_mode/(1000*60))%60\n",
    "print (\"The duration mode of songs: %d:%s\" % (minutes, seconds))\n"
   ]
  },
  {
   "cell_type": "markdown",
   "id": "157bd440",
   "metadata": {},
   "source": [
    "# Older songs ( A/c release date)"
   ]
  },
  {
   "cell_type": "code",
   "execution_count": 15,
   "id": "2b33eba3",
   "metadata": {},
   "outputs": [
    {
     "data": {
      "text/html": [
       "<div>\n",
       "<style scoped>\n",
       "    .dataframe tbody tr th:only-of-type {\n",
       "        vertical-align: middle;\n",
       "    }\n",
       "\n",
       "    .dataframe tbody tr th {\n",
       "        vertical-align: top;\n",
       "    }\n",
       "\n",
       "    .dataframe thead th {\n",
       "        text-align: right;\n",
       "    }\n",
       "</style>\n",
       "<table border=\"1\" class=\"dataframe\">\n",
       "  <thead>\n",
       "    <tr style=\"text-align: right;\">\n",
       "      <th></th>\n",
       "      <th>name</th>\n",
       "      <th>album</th>\n",
       "      <th>artists</th>\n",
       "      <th>release_date</th>\n",
       "    </tr>\n",
       "  </thead>\n",
       "  <tbody>\n",
       "    <tr>\n",
       "      <th>181546</th>\n",
       "      <td>Cachita</td>\n",
       "      <td>The Music Of Cuba 1909-1951</td>\n",
       "      <td>[\"Antobal's Cubans\"]</td>\n",
       "      <td>1909</td>\n",
       "    </tr>\n",
       "    <tr>\n",
       "      <th>181551</th>\n",
       "      <td>Como Ayer</td>\n",
       "      <td>The Music Of Cuba 1909-1951</td>\n",
       "      <td>['Conjunto Cubakonga']</td>\n",
       "      <td>1909</td>\n",
       "    </tr>\n",
       "    <tr>\n",
       "      <th>181550</th>\n",
       "      <td>La Reina Del Guaguancó</td>\n",
       "      <td>The Music Of Cuba 1909-1951</td>\n",
       "      <td>['Alberto Iznaga Y Su Orchestra Siboney']</td>\n",
       "      <td>1909</td>\n",
       "    </tr>\n",
       "    <tr>\n",
       "      <th>181549</th>\n",
       "      <td>El Muerto Se Fué De Rumba</td>\n",
       "      <td>The Music Of Cuba 1909-1951</td>\n",
       "      <td>['Orquesta Hermanos Castro']</td>\n",
       "      <td>1909</td>\n",
       "    </tr>\n",
       "    <tr>\n",
       "      <th>181548</th>\n",
       "      <td>Impromptu</td>\n",
       "      <td>The Music Of Cuba 1909-1951</td>\n",
       "      <td>['Desi Arnaz Y Su Orchestra']</td>\n",
       "      <td>1909</td>\n",
       "    </tr>\n",
       "    <tr>\n",
       "      <th>181547</th>\n",
       "      <td>La Conga En Nueve York</td>\n",
       "      <td>The Music Of Cuba 1909-1951</td>\n",
       "      <td>['Desi Arnaz']</td>\n",
       "      <td>1909</td>\n",
       "    </tr>\n",
       "    <tr>\n",
       "      <th>181545</th>\n",
       "      <td>A Centavo El Mazo</td>\n",
       "      <td>The Music Of Cuba 1909-1951</td>\n",
       "      <td>['Orchestra Pedro VÍa']</td>\n",
       "      <td>1909</td>\n",
       "    </tr>\n",
       "    <tr>\n",
       "      <th>181544</th>\n",
       "      <td>El Maraquero</td>\n",
       "      <td>The Music Of Cuba 1909-1951</td>\n",
       "      <td>[\"Antobal's Cubans\"]</td>\n",
       "      <td>1909</td>\n",
       "    </tr>\n",
       "    <tr>\n",
       "      <th>181543</th>\n",
       "      <td>Rumbas Cubanas</td>\n",
       "      <td>The Music Of Cuba 1909-1951</td>\n",
       "      <td>['Lecuona Cuban Boys']</td>\n",
       "      <td>1909</td>\n",
       "    </tr>\n",
       "    <tr>\n",
       "      <th>181542</th>\n",
       "      <td>Rumba Tambah</td>\n",
       "      <td>The Music Of Cuba 1909-1951</td>\n",
       "      <td>['Lecuona Cuban Boys']</td>\n",
       "      <td>1909</td>\n",
       "    </tr>\n",
       "  </tbody>\n",
       "</table>\n",
       "</div>"
      ],
      "text/plain": [
       "                             name                        album  \\\n",
       "181546                    Cachita  The Music Of Cuba 1909-1951   \n",
       "181551                  Como Ayer  The Music Of Cuba 1909-1951   \n",
       "181550     La Reina Del Guaguancó  The Music Of Cuba 1909-1951   \n",
       "181549  El Muerto Se Fué De Rumba  The Music Of Cuba 1909-1951   \n",
       "181548                  Impromptu  The Music Of Cuba 1909-1951   \n",
       "181547     La Conga En Nueve York  The Music Of Cuba 1909-1951   \n",
       "181545          A Centavo El Mazo  The Music Of Cuba 1909-1951   \n",
       "181544               El Maraquero  The Music Of Cuba 1909-1951   \n",
       "181543             Rumbas Cubanas  The Music Of Cuba 1909-1951   \n",
       "181542               Rumba Tambah  The Music Of Cuba 1909-1951   \n",
       "\n",
       "                                          artists release_date  \n",
       "181546                       [\"Antobal's Cubans\"]         1909  \n",
       "181551                     ['Conjunto Cubakonga']         1909  \n",
       "181550  ['Alberto Iznaga Y Su Orchestra Siboney']         1909  \n",
       "181549               ['Orquesta Hermanos Castro']         1909  \n",
       "181548              ['Desi Arnaz Y Su Orchestra']         1909  \n",
       "181547                             ['Desi Arnaz']         1909  \n",
       "181545                    ['Orchestra Pedro VÍa']         1909  \n",
       "181544                       [\"Antobal's Cubans\"]         1909  \n",
       "181543                     ['Lecuona Cuban Boys']         1909  \n",
       "181542                     ['Lecuona Cuban Boys']         1909  "
      ]
     },
     "execution_count": 15,
     "metadata": {},
     "output_type": "execute_result"
    }
   ],
   "source": [
    "songs[['name', 'album', 'artists', 'release_date']].loc[~songs['release_date'].isin(['0000', '1900-01-01', '1908-08-01'])].sort_values('release_date').head(10)"
   ]
  },
  {
   "cell_type": "markdown",
   "id": "e371819a",
   "metadata": {},
   "source": [
    "# Exploratory Data Analysis"
   ]
  },
  {
   "cell_type": "markdown",
   "id": "af26cee8",
   "metadata": {},
   "source": [
    "# Check whether the songs are explicit or not"
   ]
  },
  {
   "cell_type": "code",
   "execution_count": 16,
   "id": "8723ec1f",
   "metadata": {},
   "outputs": [
    {
     "name": "stdout",
     "output_type": "stream",
     "text": [
      "Explicit songs:\n",
      "False    93.14%\n",
      "True      6.86%\n",
      "Name: explicit, dtype: object\n"
     ]
    },
    {
     "data": {
      "text/plain": [
       "<AxesSubplot:ylabel='explicit'>"
      ]
     },
     "execution_count": 16,
     "metadata": {},
     "output_type": "execute_result"
    },
    {
     "data": {
      "image/png": "[encoded data removed]",
      "text/plain": [
       "<Figure size 432x288 with 1 Axes>"
      ]
     },
     "metadata": {},
     "output_type": "display_data"
    }
   ],
   "source": [
    "print('Explicit songs:')\n",
    "print(songs['explicit'].value_counts(normalize=True).mul(100).round(2).astype(str) + '%')\n",
    "songs['explicit'].value_counts().plot.pie()"
   ]
  },
  {
   "cell_type": "code",
   "execution_count": 24,
   "id": "0bca8721",
   "metadata": {},
   "outputs": [
    {
     "data": {
      "application/vnd.jupyter.widget-view+json": {
       "model_id": "b2d6f5562599404a8f9fbc361accfc47",
       "version_major": 2,
       "version_minor": 0
      },
      "text/plain": [
       "                                             |          | [  0%]   00:00 -> (? left)"
      ]
     },
     "metadata": {},
     "output_type": "display_data"
    },
    {
     "name": "stdout",
     "output_type": "stream",
     "text": [
      "Report SWEETVIZ_REPORT.html was generated! NOTEBOOK/COLAB USERS: the web browser MAY not pop up, regardless, the report IS saved in your notebook/colab files.\n"
     ]
    }
   ],
   "source": [
    "import sweetviz as sv \n",
    "my_report = sv.analyze(songs)\n",
    "my_report.show_html()"
   ]
  },
  {
   "cell_type": "markdown",
   "id": "9cc48e24",
   "metadata": {},
   "source": [
    "### Now let's try to check for some audio features dependencies using a heatmap correlation matrix"
   ]
  },
  {
   "cell_type": "code",
   "execution_count": 17,
   "id": "b83b8b62",
   "metadata": {},
   "outputs": [
    {
     "data": {
      "text/plain": [
       "<AxesSubplot:>"
      ]
     },
     "execution_count": 17,
     "metadata": {},
     "output_type": "execute_result"
    },
    {
     "data": {
      "image/png": "[encoded data removed]",
      "text/plain": [
       "<Figure size 864x576 with 2 Axes>"
      ]
     },
     "metadata": {
      "needs_background": "light"
     },
     "output_type": "display_data"
    }
   ],
   "source": [
    "corr=songs[['danceability',\n",
    "            'energy', 'loudness',  'speechiness', 'acousticness',\n",
    "            'instrumentalness', 'liveness', 'valence', 'tempo']].corr()\n",
    "sns.set(style='darkgrid')\n",
    "%matplotlib inline\n",
    "plt.figure(figsize=(12,8))\n",
    "sns.heatmap(corr, annot=True)"
   ]
  },
  {
   "cell_type": "markdown",
   "id": "6b6f66f7",
   "metadata": {},
   "source": [
    "### here as we can see that danceability and valence have strong postive correlation as we wanted, while energy and acousticness have negative correlation."
   ]
  },
  {
   "cell_type": "markdown",
   "id": "3d99d2f3",
   "metadata": {},
   "source": [
    "# So lets check top 10 artists in terms of energy and their acousticness values"
   ]
  },
  {
   "cell_type": "code",
   "execution_count": 18,
   "id": "8ef0f811",
   "metadata": {},
   "outputs": [
    {
     "data": {
      "text/html": [
       "<div>\n",
       "<style scoped>\n",
       "    .dataframe tbody tr th:only-of-type {\n",
       "        vertical-align: middle;\n",
       "    }\n",
       "\n",
       "    .dataframe tbody tr th {\n",
       "        vertical-align: top;\n",
       "    }\n",
       "\n",
       "    .dataframe thead th {\n",
       "        text-align: right;\n",
       "    }\n",
       "</style>\n",
       "<table border=\"1\" class=\"dataframe\">\n",
       "  <thead>\n",
       "    <tr style=\"text-align: right;\">\n",
       "      <th></th>\n",
       "      <th>energy</th>\n",
       "      <th>acousticness</th>\n",
       "    </tr>\n",
       "    <tr>\n",
       "      <th>artists</th>\n",
       "      <th></th>\n",
       "      <th></th>\n",
       "    </tr>\n",
       "  </thead>\n",
       "  <tbody>\n",
       "    <tr>\n",
       "      <th>['The Trio of Stridence']</th>\n",
       "      <td>1.0</td>\n",
       "      <td>0.314000</td>\n",
       "    </tr>\n",
       "    <tr>\n",
       "      <th>['Morbid Angel', 'DJ Ruffneck']</th>\n",
       "      <td>1.0</td>\n",
       "      <td>0.037800</td>\n",
       "    </tr>\n",
       "    <tr>\n",
       "      <th>['Dog Blood', 'Bambounou']</th>\n",
       "      <td>1.0</td>\n",
       "      <td>0.000008</td>\n",
       "    </tr>\n",
       "    <tr>\n",
       "      <th>['Andraculoid']</th>\n",
       "      <td>1.0</td>\n",
       "      <td>0.035500</td>\n",
       "    </tr>\n",
       "    <tr>\n",
       "      <th>['Mahavishnu Project']</th>\n",
       "      <td>1.0</td>\n",
       "      <td>0.102000</td>\n",
       "    </tr>\n",
       "    <tr>\n",
       "      <th>['Magúla', 'Lovelace Camilo']</th>\n",
       "      <td>1.0</td>\n",
       "      <td>0.001780</td>\n",
       "    </tr>\n",
       "    <tr>\n",
       "      <th>['Audience']</th>\n",
       "      <td>1.0</td>\n",
       "      <td>0.856000</td>\n",
       "    </tr>\n",
       "    <tr>\n",
       "      <th>['DJ Auzern']</th>\n",
       "      <td>1.0</td>\n",
       "      <td>0.000049</td>\n",
       "    </tr>\n",
       "    <tr>\n",
       "      <th>['Don Mock']</th>\n",
       "      <td>1.0</td>\n",
       "      <td>0.724000</td>\n",
       "    </tr>\n",
       "    <tr>\n",
       "      <th>['Kai Brückner']</th>\n",
       "      <td>1.0</td>\n",
       "      <td>0.608000</td>\n",
       "    </tr>\n",
       "  </tbody>\n",
       "</table>\n",
       "</div>"
      ],
      "text/plain": [
       "                                 energy  acousticness\n",
       "artists                                              \n",
       "['The Trio of Stridence']           1.0      0.314000\n",
       "['Morbid Angel', 'DJ Ruffneck']     1.0      0.037800\n",
       "['Dog Blood', 'Bambounou']          1.0      0.000008\n",
       "['Andraculoid']                     1.0      0.035500\n",
       "['Mahavishnu Project']              1.0      0.102000\n",
       "['Magúla', 'Lovelace Camilo']       1.0      0.001780\n",
       "['Audience']                        1.0      0.856000\n",
       "['DJ Auzern']                       1.0      0.000049\n",
       "['Don Mock']                        1.0      0.724000\n",
       "['Kai Brückner']                    1.0      0.608000"
      ]
     },
     "execution_count": 18,
     "metadata": {},
     "output_type": "execute_result"
    }
   ],
   "source": [
    "songs[['artists','energy','acousticness']].groupby('artists').mean().sort_values(by='energy', ascending=False)[:10]"
   ]
  },
  {
   "cell_type": "code",
   "execution_count": 19,
   "id": "06d08236",
   "metadata": {},
   "outputs": [
    {
     "data": {
      "text/plain": [
       "0.44675109819685244"
      ]
     },
     "execution_count": 19,
     "metadata": {},
     "output_type": "execute_result"
    }
   ],
   "source": [
    "songs.acousticness.mean()"
   ]
  },
  {
   "cell_type": "markdown",
   "id": "fa7c8f6b",
   "metadata": {},
   "source": [
    "### The inference we get is that artist with high energy produce low acousticness , and hence for the entire dataset avergae is 0.44 , thus resulting in -ve correlation. "
   ]
  },
  {
   "cell_type": "markdown",
   "id": "22aab3fc",
   "metadata": {},
   "source": [
    "### The dataset have songs in its 90's too, so we can get an overview how the characteritsics of a songs changes as time goes by. "
   ]
  },
  {
   "cell_type": "code",
   "execution_count": 20,
   "id": "937e488f",
   "metadata": {},
   "outputs": [
    {
     "data": {
      "text/html": [
       "<div>\n",
       "<style scoped>\n",
       "    .dataframe tbody tr th:only-of-type {\n",
       "        vertical-align: middle;\n",
       "    }\n",
       "\n",
       "    .dataframe tbody tr th {\n",
       "        vertical-align: top;\n",
       "    }\n",
       "\n",
       "    .dataframe thead th {\n",
       "        text-align: right;\n",
       "    }\n",
       "</style>\n",
       "<table border=\"1\" class=\"dataframe\">\n",
       "  <thead>\n",
       "    <tr style=\"text-align: right;\">\n",
       "      <th></th>\n",
       "      <th>year</th>\n",
       "      <th>danceability</th>\n",
       "      <th>energy</th>\n",
       "      <th>liveness</th>\n",
       "      <th>acousticness</th>\n",
       "      <th>valence</th>\n",
       "    </tr>\n",
       "  </thead>\n",
       "  <tbody>\n",
       "    <tr>\n",
       "      <th>0</th>\n",
       "      <td>1900</td>\n",
       "      <td>0.483857</td>\n",
       "      <td>0.282193</td>\n",
       "      <td>0.129264</td>\n",
       "      <td>0.713071</td>\n",
       "      <td>0.422157</td>\n",
       "    </tr>\n",
       "    <tr>\n",
       "      <th>1</th>\n",
       "      <td>1908</td>\n",
       "      <td>0.604105</td>\n",
       "      <td>0.473695</td>\n",
       "      <td>0.187263</td>\n",
       "      <td>0.410932</td>\n",
       "      <td>0.657000</td>\n",
       "    </tr>\n",
       "    <tr>\n",
       "      <th>2</th>\n",
       "      <td>1909</td>\n",
       "      <td>0.617560</td>\n",
       "      <td>0.484800</td>\n",
       "      <td>0.213696</td>\n",
       "      <td>0.918880</td>\n",
       "      <td>0.823880</td>\n",
       "    </tr>\n",
       "    <tr>\n",
       "      <th>3</th>\n",
       "      <td>1917</td>\n",
       "      <td>0.506942</td>\n",
       "      <td>0.253687</td>\n",
       "      <td>0.233617</td>\n",
       "      <td>0.810928</td>\n",
       "      <td>0.480892</td>\n",
       "    </tr>\n",
       "    <tr>\n",
       "      <th>4</th>\n",
       "      <td>1920</td>\n",
       "      <td>0.562600</td>\n",
       "      <td>0.209664</td>\n",
       "      <td>0.351440</td>\n",
       "      <td>0.994000</td>\n",
       "      <td>0.620240</td>\n",
       "    </tr>\n",
       "  </tbody>\n",
       "</table>\n",
       "</div>"
      ],
      "text/plain": [
       "   year  danceability    energy  liveness  acousticness   valence\n",
       "0  1900      0.483857  0.282193  0.129264      0.713071  0.422157\n",
       "1  1908      0.604105  0.473695  0.187263      0.410932  0.657000\n",
       "2  1909      0.617560  0.484800  0.213696      0.918880  0.823880\n",
       "3  1917      0.506942  0.253687  0.233617      0.810928  0.480892\n",
       "4  1920      0.562600  0.209664  0.351440      0.994000  0.620240"
      ]
     },
     "execution_count": 20,
     "metadata": {},
     "output_type": "execute_result"
    }
   ],
   "source": [
    "year_avg = song[['danceability','energy','liveness','acousticness', 'valence','year']].groupby('year').mean().sort_values(by='year').reset_index()\n",
    "year_avg.head()"
   ]
  },
  {
   "cell_type": "code",
   "execution_count": 21,
   "id": "25308bbf",
   "metadata": {},
   "outputs": [
    {
     "data": {
      "text/plain": [
       "<matplotlib.legend.Legend at 0x1c87383ebe0>"
      ]
     },
     "execution_count": 21,
     "metadata": {},
     "output_type": "execute_result"
    },
    {
     "data": {
      "image/png": "[encoded data removed]",
      "text/plain": [
       "<Figure size 1008x576 with 1 Axes>"
      ]
     },
     "metadata": {
      "needs_background": "light"
     },
     "output_type": "display_data"
    }
   ],
   "source": [
    "plt.figure(figsize=(14,8))\n",
    "plt.title(\"Song Trends Over Time\", fontsize=15)\n",
    "lines = ['danceability','energy','liveness','acousticness','valence']\n",
    "for line in lines:\n",
    "    ax = sns.lineplot(x='year', y=line, data=year_avg)\n",
    "plt.legend(lines)"
   ]
  },
  {
   "cell_type": "markdown",
   "id": "a7e58436",
   "metadata": {},
   "source": [
    "# Artists with most songs"
   ]
  },
  {
   "cell_type": "code",
   "execution_count": 22,
   "id": "1f77b24c",
   "metadata": {},
   "outputs": [
    {
     "name": "stdout",
     "output_type": "stream",
     "text": [
      "Unique artists in the dataset\n"
     ]
    },
    {
     "data": {
      "text/plain": [
       "165364"
      ]
     },
     "execution_count": 22,
     "metadata": {},
     "output_type": "execute_result"
    }
   ],
   "source": [
    "print(\"Unique artists in the dataset\")\n",
    "song.artists.nunique()"
   ]
  },
  {
   "cell_type": "code",
   "execution_count": 23,
   "id": "b94e34f5",
   "metadata": {},
   "outputs": [
    {
     "name": "stdout",
     "output_type": "stream",
     "text": [
      "the artists with most of the songs in the dataset\n"
     ]
    },
    {
     "data": {
      "text/plain": [
       "['Various Artists']                              1753\n",
       "['Vitamin String Quartet']                       1577\n",
       "['Aretha Franklin']                              1209\n",
       "['The City of Prague Philharmonic Orchestra']    1042\n",
       "[\"Dan Gibson's Solitudes\"]                        997\n",
       "['Bob Dylan']                                     913\n",
       "['The Fall']                                      812\n",
       "[\"Pickin' On Series\"]                             774\n",
       "['Dolly Parton']                                  747\n",
       "['Guided By Voices']                              739\n",
       "Name: artists, dtype: int64"
      ]
     },
     "execution_count": 23,
     "metadata": {},
     "output_type": "execute_result"
    }
   ],
   "source": [
    "print(\"the artists with most of the songs in the dataset\")\n",
    "song.artists.value_counts()[:10]"
   ]
  },
  {
   "cell_type": "code",
   "execution_count": 24,
   "id": "e813beca",
   "metadata": {},
   "outputs": [],
   "source": [
    "artist_list = song.artists.value_counts().index[:]"
   ]
  },
  {
   "cell_type": "code",
   "execution_count": 25,
   "id": "d4c7370c",
   "metadata": {},
   "outputs": [
    {
     "data": {
      "text/html": [
       "<div>\n",
       "<style scoped>\n",
       "    .dataframe tbody tr th:only-of-type {\n",
       "        vertical-align: middle;\n",
       "    }\n",
       "\n",
       "    .dataframe tbody tr th {\n",
       "        vertical-align: top;\n",
       "    }\n",
       "\n",
       "    .dataframe thead th {\n",
       "        text-align: right;\n",
       "    }\n",
       "</style>\n",
       "<table border=\"1\" class=\"dataframe\">\n",
       "  <thead>\n",
       "    <tr style=\"text-align: right;\">\n",
       "      <th></th>\n",
       "      <th>artists</th>\n",
       "      <th>year</th>\n",
       "      <th>song_count</th>\n",
       "    </tr>\n",
       "  </thead>\n",
       "  <tbody>\n",
       "    <tr>\n",
       "      <th>0</th>\n",
       "      <td>[\"'63 Burnout\"]</td>\n",
       "      <td>2007</td>\n",
       "      <td>14</td>\n",
       "    </tr>\n",
       "    <tr>\n",
       "      <th>1</th>\n",
       "      <td>[\"'68\"]</td>\n",
       "      <td>2014</td>\n",
       "      <td>10</td>\n",
       "    </tr>\n",
       "    <tr>\n",
       "      <th>2</th>\n",
       "      <td>[\"'68\"]</td>\n",
       "      <td>2020</td>\n",
       "      <td>4</td>\n",
       "    </tr>\n",
       "    <tr>\n",
       "      <th>3</th>\n",
       "      <td>[\"'89 Skratch Gangstaz (DJ Pone &amp; Snayk Eyez)\"]</td>\n",
       "      <td>2003</td>\n",
       "      <td>1</td>\n",
       "    </tr>\n",
       "    <tr>\n",
       "      <th>4</th>\n",
       "      <td>[\"'Ale'a\", 'Ryan Gonzalez']</td>\n",
       "      <td>2003</td>\n",
       "      <td>1</td>\n",
       "    </tr>\n",
       "  </tbody>\n",
       "</table>\n",
       "</div>"
      ],
      "text/plain": [
       "                                           artists  year  song_count\n",
       "0                                  [\"'63 Burnout\"]  2007          14\n",
       "1                                          [\"'68\"]  2014          10\n",
       "2                                          [\"'68\"]  2020           4\n",
       "3  [\"'89 Skratch Gangstaz (DJ Pone & Snayk Eyez)\"]  2003           1\n",
       "4                      [\"'Ale'a\", 'Ryan Gonzalez']  2003           1"
      ]
     },
     "execution_count": 25,
     "metadata": {},
     "output_type": "execute_result"
    }
   ],
   "source": [
    "df_artists = song[song.artists.isin(artist_list)][['artists','year',\n",
    "                                                        'energy']].groupby(['artists','year']).count().reset_index()\n",
    "df_artists.rename(columns={'energy':'song_count'}, inplace=True)\n",
    "df_artists.head()"
   ]
  },
  {
   "cell_type": "code",
   "execution_count": null,
   "id": "ae8918c6",
   "metadata": {},
   "outputs": [],
   "source": [
    "plt.figure(figsize=(16,8))\n",
    "sns.lineplot(x='year', y='song_count', hue='artists', data=df_artists)"
   ]
  },
  {
   "cell_type": "markdown",
   "id": "5ffa08f9",
   "metadata": {},
   "source": [
    "### From line plot we can see that  Arethna Franklin has the trakcs in 1940s"
   ]
  },
  {
   "cell_type": "code",
   "execution_count": 26,
   "id": "dc519ca0",
   "metadata": {},
   "outputs": [
    {
     "ename": "ModuleNotFoundError",
     "evalue": "No module named 'plotly'",
     "output_type": "error",
     "traceback": [
      "\u001b[1;31m---------------------------------------------------------------------------\u001b[0m",
      "\u001b[1;31mModuleNotFoundError\u001b[0m                       Traceback (most recent call last)",
      "\u001b[1;32m<ipython-input-26-1917bb50dca0>\u001b[0m in \u001b[0;36m<module>\u001b[1;34m\u001b[0m\n\u001b[1;32m----> 1\u001b[1;33m \u001b[1;32mimport\u001b[0m \u001b[0mplotly\u001b[0m\u001b[1;33m.\u001b[0m\u001b[0mexpress\u001b[0m \u001b[1;32mas\u001b[0m \u001b[0mpx\u001b[0m\u001b[1;33m\u001b[0m\u001b[1;33m\u001b[0m\u001b[0m\n\u001b[0m\u001b[0;32m      2\u001b[0m fig = px.bar(song,\n\u001b[0;32m      3\u001b[0m              \u001b[0mx\u001b[0m\u001b[1;33m=\u001b[0m\u001b[1;34m'artists'\u001b[0m\u001b[1;33m,\u001b[0m \u001b[0my\u001b[0m\u001b[1;33m=\u001b[0m\u001b[1;34m'song_count'\u001b[0m\u001b[1;33m,\u001b[0m\u001b[1;33m\u001b[0m\u001b[1;33m\u001b[0m\u001b[0m\n\u001b[0;32m      4\u001b[0m              \u001b[0mcolor\u001b[0m\u001b[1;33m=\u001b[0m\u001b[1;34m'artists'\u001b[0m\u001b[1;33m,\u001b[0m\u001b[1;33m\u001b[0m\u001b[1;33m\u001b[0m\u001b[0m\n\u001b[0;32m      5\u001b[0m              \u001b[0manimation_frame\u001b[0m\u001b[1;33m=\u001b[0m\u001b[1;34m'year'\u001b[0m\u001b[1;33m,\u001b[0m \u001b[0manimation_group\u001b[0m\u001b[1;33m=\u001b[0m\u001b[1;34m'year'\u001b[0m\u001b[1;33m,\u001b[0m\u001b[1;33m\u001b[0m\u001b[1;33m\u001b[0m\u001b[0m\n",
      "\u001b[1;31mModuleNotFoundError\u001b[0m: No module named 'plotly'"
     ]
    }
   ],
   "source": [
    "import plotly.express as px\n",
    "fig = px.bar(song,\n",
    "             x='artists', y='song_count',\n",
    "             color='artists',\n",
    "             animation_frame='year', animation_group='year',\n",
    "             range_y=[0,1000],\n",
    "             title='Artists with Most Number of Songs')\n",
    "fig.show()"
   ]
  },
  {
   "cell_type": "code",
   "execution_count": null,
   "id": "d9cec30a",
   "metadata": {},
   "outputs": [],
   "source": []
  }
 ],
 "metadata": {
  "kernelspec": {
   "display_name": "Python 3",
   "language": "python",
   "name": "python3"
  },
  "language_info": {
   "codemirror_mode": {
    "name": "ipython",
    "version": 3
   },
   "file_extension": ".py",
   "mimetype": "text/x-python",
   "name": "python",
   "nbconvert_exporter": "python",
   "pygments_lexer": "ipython3",
   "version": "3.8.8"
  }
 },
 "nbformat": 4,
 "nbformat_minor": 5
}
