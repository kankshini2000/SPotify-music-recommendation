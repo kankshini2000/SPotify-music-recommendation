{
 "cells": [
  {
   "cell_type": "code",
   "execution_count": 17,
   "id": "c75b2a17",
   "metadata": {},
   "outputs": [
    {
     "name": "stdout",
     "output_type": "stream",
     "text": [
      "Collecting kneed\n",
      "  Downloading kneed-0.7.0-py2.py3-none-any.whl (9.4 kB)\n",
      "Requirement already satisfied: scipy in c:\\users\\user\\anaconda3\\lib\\site-packages (from kneed) (1.6.2)\n",
      "Requirement already satisfied: matplotlib in c:\\users\\user\\anaconda3\\lib\\site-packages (from kneed) (3.3.4)\n",
      "Requirement already satisfied: numpy>=1.14.2 in c:\\users\\user\\anaconda3\\lib\\site-packages (from kneed) (1.20.1)\n",
      "Requirement already satisfied: kiwisolver>=1.0.1 in c:\\users\\user\\anaconda3\\lib\\site-packages (from matplotlib->kneed) (1.3.1)\n",
      "Requirement already satisfied: pyparsing!=2.0.4,!=2.1.2,!=2.1.6,>=2.0.3 in c:\\users\\user\\anaconda3\\lib\\site-packages (from matplotlib->kneed) (2.4.7)\n",
      "Requirement already satisfied: pillow>=6.2.0 in c:\\users\\user\\anaconda3\\lib\\site-packages (from matplotlib->kneed) (8.2.0)\n",
      "Requirement already satisfied: cycler>=0.10 in c:\\users\\user\\anaconda3\\lib\\site-packages (from matplotlib->kneed) (0.10.0)\n",
      "Requirement already satisfied: python-dateutil>=2.1 in c:\\users\\user\\anaconda3\\lib\\site-packages (from matplotlib->kneed) (2.8.1)\n",
      "Requirement already satisfied: six in c:\\users\\user\\anaconda3\\lib\\site-packages (from cycler>=0.10->matplotlib->kneed) (1.15.0)\n",
      "Installing collected packages: kneed\n",
      "Successfully installed kneed-0.7.0\n"
     ]
    }
   ],
   "source": [
    "!pip install kneed"
   ]
  },
  {
   "cell_type": "code",
   "execution_count": 21,
   "id": "76908185",
   "metadata": {},
   "outputs": [
    {
     "name": "stdout",
     "output_type": "stream",
     "text": [
      "Collecting yellowbrick\n",
      "  Using cached yellowbrick-1.3.post1-py3-none-any.whl (271 kB)\n",
      "Requirement already satisfied: matplotlib!=3.0.0,>=2.0.2 in c:\\users\\user\\anaconda3\\lib\\site-packages (from yellowbrick) (3.3.4)\n",
      "Requirement already satisfied: cycler>=0.10.0 in c:\\users\\user\\anaconda3\\lib\\site-packages (from yellowbrick) (0.10.0)\n",
      "Requirement already satisfied: scikit-learn>=0.20 in c:\\users\\user\\anaconda3\\lib\\site-packages (from yellowbrick) (0.24.1)\n",
      "Requirement already satisfied: numpy<1.20,>=1.16.0 in c:\\users\\user\\anaconda3\\lib\\site-packages (from yellowbrick) (1.19.5)\n",
      "Requirement already satisfied: scipy>=1.0.0 in c:\\users\\user\\anaconda3\\lib\\site-packages (from yellowbrick) (1.6.2)\n",
      "Requirement already satisfied: six in c:\\users\\user\\anaconda3\\lib\\site-packages (from cycler>=0.10.0->yellowbrick) (1.15.0)\n",
      "Requirement already satisfied: pyparsing!=2.0.4,!=2.1.2,!=2.1.6,>=2.0.3 in c:\\users\\user\\anaconda3\\lib\\site-packages (from matplotlib!=3.0.0,>=2.0.2->yellowbrick) (2.4.7)\n",
      "Requirement already satisfied: kiwisolver>=1.0.1 in c:\\users\\user\\anaconda3\\lib\\site-packages (from matplotlib!=3.0.0,>=2.0.2->yellowbrick) (1.3.1)\n",
      "Requirement already satisfied: python-dateutil>=2.1 in c:\\users\\user\\anaconda3\\lib\\site-packages (from matplotlib!=3.0.0,>=2.0.2->yellowbrick) (2.8.1)\n",
      "Requirement already satisfied: pillow>=6.2.0 in c:\\users\\user\\anaconda3\\lib\\site-packages (from matplotlib!=3.0.0,>=2.0.2->yellowbrick) (8.2.0)\n",
      "Requirement already satisfied: joblib>=0.11 in c:\\users\\user\\anaconda3\\lib\\site-packages (from scikit-learn>=0.20->yellowbrick) (1.0.1)\n",
      "Requirement already satisfied: threadpoolctl>=2.0.0 in c:\\users\\user\\anaconda3\\lib\\site-packages (from scikit-learn>=0.20->yellowbrick) (2.1.0)\n",
      "Installing collected packages: yellowbrick\n",
      "Successfully installed yellowbrick-1.3.post1\n"
     ]
    }
   ],
   "source": [
    "!pip install yellowbrick"
   ]
  },
  {
   "cell_type": "code",
   "execution_count": 20,
   "id": "c1824340",
   "metadata": {},
   "outputs": [],
   "source": [
    "import numpy as np \n",
    "import pandas as pd \n",
    "import math\n",
    "import matplotlib.pyplot as plt\n",
    "import seaborn as sns"
   ]
  },
  {
   "cell_type": "code",
   "execution_count": 2,
   "id": "2babe235",
   "metadata": {},
   "outputs": [],
   "source": [
    "songs = pd.read_csv(r'C:\\Users\\User\\projects\\Music recommendation\\tracks_features.csv')"
   ]
  },
  {
   "cell_type": "code",
   "execution_count": 3,
   "id": "7aa77ff4",
   "metadata": {},
   "outputs": [
    {
     "data": {
      "text/html": [
       "<div>\n",
       "<style scoped>\n",
       "    .dataframe tbody tr th:only-of-type {\n",
       "        vertical-align: middle;\n",
       "    }\n",
       "\n",
       "    .dataframe tbody tr th {\n",
       "        vertical-align: top;\n",
       "    }\n",
       "\n",
       "    .dataframe thead th {\n",
       "        text-align: right;\n",
       "    }\n",
       "</style>\n",
       "<table border=\"1\" class=\"dataframe\">\n",
       "  <thead>\n",
       "    <tr style=\"text-align: right;\">\n",
       "      <th></th>\n",
       "      <th>id</th>\n",
       "      <th>name</th>\n",
       "      <th>album</th>\n",
       "      <th>album_id</th>\n",
       "      <th>artists</th>\n",
       "      <th>artist_ids</th>\n",
       "      <th>track_number</th>\n",
       "      <th>disc_number</th>\n",
       "      <th>explicit</th>\n",
       "      <th>danceability</th>\n",
       "      <th>...</th>\n",
       "      <th>speechiness</th>\n",
       "      <th>acousticness</th>\n",
       "      <th>instrumentalness</th>\n",
       "      <th>liveness</th>\n",
       "      <th>valence</th>\n",
       "      <th>tempo</th>\n",
       "      <th>duration_ms</th>\n",
       "      <th>time_signature</th>\n",
       "      <th>year</th>\n",
       "      <th>release_date</th>\n",
       "    </tr>\n",
       "  </thead>\n",
       "  <tbody>\n",
       "    <tr>\n",
       "      <th>0</th>\n",
       "      <td>7lmeHLHBe4nmXzuXc0HDjk</td>\n",
       "      <td>Testify</td>\n",
       "      <td>The Battle Of Los Angeles</td>\n",
       "      <td>2eia0myWFgoHuttJytCxgX</td>\n",
       "      <td>['Rage Against The Machine']</td>\n",
       "      <td>['2d0hyoQ5ynDBnkvAbJKORj']</td>\n",
       "      <td>1</td>\n",
       "      <td>1</td>\n",
       "      <td>False</td>\n",
       "      <td>0.470</td>\n",
       "      <td>...</td>\n",
       "      <td>0.0727</td>\n",
       "      <td>0.02610</td>\n",
       "      <td>0.000011</td>\n",
       "      <td>0.3560</td>\n",
       "      <td>0.503</td>\n",
       "      <td>117.906</td>\n",
       "      <td>210133</td>\n",
       "      <td>4.0</td>\n",
       "      <td>1999</td>\n",
       "      <td>1999-11-02</td>\n",
       "    </tr>\n",
       "    <tr>\n",
       "      <th>1</th>\n",
       "      <td>1wsRitfRRtWyEapl0q22o8</td>\n",
       "      <td>Guerrilla Radio</td>\n",
       "      <td>The Battle Of Los Angeles</td>\n",
       "      <td>2eia0myWFgoHuttJytCxgX</td>\n",
       "      <td>['Rage Against The Machine']</td>\n",
       "      <td>['2d0hyoQ5ynDBnkvAbJKORj']</td>\n",
       "      <td>2</td>\n",
       "      <td>1</td>\n",
       "      <td>True</td>\n",
       "      <td>0.599</td>\n",
       "      <td>...</td>\n",
       "      <td>0.1880</td>\n",
       "      <td>0.01290</td>\n",
       "      <td>0.000071</td>\n",
       "      <td>0.1550</td>\n",
       "      <td>0.489</td>\n",
       "      <td>103.680</td>\n",
       "      <td>206200</td>\n",
       "      <td>4.0</td>\n",
       "      <td>1999</td>\n",
       "      <td>1999-11-02</td>\n",
       "    </tr>\n",
       "    <tr>\n",
       "      <th>2</th>\n",
       "      <td>1hR0fIFK2qRG3f3RF70pb7</td>\n",
       "      <td>Calm Like a Bomb</td>\n",
       "      <td>The Battle Of Los Angeles</td>\n",
       "      <td>2eia0myWFgoHuttJytCxgX</td>\n",
       "      <td>['Rage Against The Machine']</td>\n",
       "      <td>['2d0hyoQ5ynDBnkvAbJKORj']</td>\n",
       "      <td>3</td>\n",
       "      <td>1</td>\n",
       "      <td>False</td>\n",
       "      <td>0.315</td>\n",
       "      <td>...</td>\n",
       "      <td>0.4830</td>\n",
       "      <td>0.02340</td>\n",
       "      <td>0.000002</td>\n",
       "      <td>0.1220</td>\n",
       "      <td>0.370</td>\n",
       "      <td>149.749</td>\n",
       "      <td>298893</td>\n",
       "      <td>4.0</td>\n",
       "      <td>1999</td>\n",
       "      <td>1999-11-02</td>\n",
       "    </tr>\n",
       "    <tr>\n",
       "      <th>3</th>\n",
       "      <td>2lbASgTSoDO7MTuLAXlTW0</td>\n",
       "      <td>Mic Check</td>\n",
       "      <td>The Battle Of Los Angeles</td>\n",
       "      <td>2eia0myWFgoHuttJytCxgX</td>\n",
       "      <td>['Rage Against The Machine']</td>\n",
       "      <td>['2d0hyoQ5ynDBnkvAbJKORj']</td>\n",
       "      <td>4</td>\n",
       "      <td>1</td>\n",
       "      <td>True</td>\n",
       "      <td>0.440</td>\n",
       "      <td>...</td>\n",
       "      <td>0.2370</td>\n",
       "      <td>0.16300</td>\n",
       "      <td>0.000004</td>\n",
       "      <td>0.1210</td>\n",
       "      <td>0.574</td>\n",
       "      <td>96.752</td>\n",
       "      <td>213640</td>\n",
       "      <td>4.0</td>\n",
       "      <td>1999</td>\n",
       "      <td>1999-11-02</td>\n",
       "    </tr>\n",
       "    <tr>\n",
       "      <th>4</th>\n",
       "      <td>1MQTmpYOZ6fcMQc56Hdo7T</td>\n",
       "      <td>Sleep Now In the Fire</td>\n",
       "      <td>The Battle Of Los Angeles</td>\n",
       "      <td>2eia0myWFgoHuttJytCxgX</td>\n",
       "      <td>['Rage Against The Machine']</td>\n",
       "      <td>['2d0hyoQ5ynDBnkvAbJKORj']</td>\n",
       "      <td>5</td>\n",
       "      <td>1</td>\n",
       "      <td>False</td>\n",
       "      <td>0.426</td>\n",
       "      <td>...</td>\n",
       "      <td>0.0701</td>\n",
       "      <td>0.00162</td>\n",
       "      <td>0.105000</td>\n",
       "      <td>0.0789</td>\n",
       "      <td>0.539</td>\n",
       "      <td>127.059</td>\n",
       "      <td>205600</td>\n",
       "      <td>4.0</td>\n",
       "      <td>1999</td>\n",
       "      <td>1999-11-02</td>\n",
       "    </tr>\n",
       "    <tr>\n",
       "      <th>...</th>\n",
       "      <td>...</td>\n",
       "      <td>...</td>\n",
       "      <td>...</td>\n",
       "      <td>...</td>\n",
       "      <td>...</td>\n",
       "      <td>...</td>\n",
       "      <td>...</td>\n",
       "      <td>...</td>\n",
       "      <td>...</td>\n",
       "      <td>...</td>\n",
       "      <td>...</td>\n",
       "      <td>...</td>\n",
       "      <td>...</td>\n",
       "      <td>...</td>\n",
       "      <td>...</td>\n",
       "      <td>...</td>\n",
       "      <td>...</td>\n",
       "      <td>...</td>\n",
       "      <td>...</td>\n",
       "      <td>...</td>\n",
       "      <td>...</td>\n",
       "    </tr>\n",
       "    <tr>\n",
       "      <th>1204020</th>\n",
       "      <td>0EsMifwUmMfJZxzoMPXJKZ</td>\n",
       "      <td>Gospel of Juke</td>\n",
       "      <td>Notch - EP</td>\n",
       "      <td>38O5Ys0W9PFS5K7dMb7yKb</td>\n",
       "      <td>['FVLCRVM']</td>\n",
       "      <td>['7AjItKsRnEYRSiBt2OxK1y']</td>\n",
       "      <td>2</td>\n",
       "      <td>1</td>\n",
       "      <td>False</td>\n",
       "      <td>0.264</td>\n",
       "      <td>...</td>\n",
       "      <td>0.0672</td>\n",
       "      <td>0.00935</td>\n",
       "      <td>0.002240</td>\n",
       "      <td>0.3370</td>\n",
       "      <td>0.415</td>\n",
       "      <td>159.586</td>\n",
       "      <td>276213</td>\n",
       "      <td>4.0</td>\n",
       "      <td>2014</td>\n",
       "      <td>2014-01-09</td>\n",
       "    </tr>\n",
       "    <tr>\n",
       "      <th>1204021</th>\n",
       "      <td>2WSc2TB1CSJgGE0PEzVeiu</td>\n",
       "      <td>Prism Visions</td>\n",
       "      <td>Notch - EP</td>\n",
       "      <td>38O5Ys0W9PFS5K7dMb7yKb</td>\n",
       "      <td>['FVLCRVM']</td>\n",
       "      <td>['7AjItKsRnEYRSiBt2OxK1y']</td>\n",
       "      <td>3</td>\n",
       "      <td>1</td>\n",
       "      <td>False</td>\n",
       "      <td>0.796</td>\n",
       "      <td>...</td>\n",
       "      <td>0.0883</td>\n",
       "      <td>0.10400</td>\n",
       "      <td>0.644000</td>\n",
       "      <td>0.0749</td>\n",
       "      <td>0.781</td>\n",
       "      <td>121.980</td>\n",
       "      <td>363179</td>\n",
       "      <td>4.0</td>\n",
       "      <td>2014</td>\n",
       "      <td>2014-01-09</td>\n",
       "    </tr>\n",
       "    <tr>\n",
       "      <th>1204022</th>\n",
       "      <td>6iProIgUe3ETpO6UT0v5Hg</td>\n",
       "      <td>Tokyo 360</td>\n",
       "      <td>Notch - EP</td>\n",
       "      <td>38O5Ys0W9PFS5K7dMb7yKb</td>\n",
       "      <td>['FVLCRVM']</td>\n",
       "      <td>['7AjItKsRnEYRSiBt2OxK1y']</td>\n",
       "      <td>4</td>\n",
       "      <td>1</td>\n",
       "      <td>False</td>\n",
       "      <td>0.785</td>\n",
       "      <td>...</td>\n",
       "      <td>0.0564</td>\n",
       "      <td>0.03040</td>\n",
       "      <td>0.918000</td>\n",
       "      <td>0.0664</td>\n",
       "      <td>0.467</td>\n",
       "      <td>121.996</td>\n",
       "      <td>385335</td>\n",
       "      <td>4.0</td>\n",
       "      <td>2014</td>\n",
       "      <td>2014-01-09</td>\n",
       "    </tr>\n",
       "    <tr>\n",
       "      <th>1204023</th>\n",
       "      <td>37B4SXC8uoBsUyKCWnhPfX</td>\n",
       "      <td>Yummy!</td>\n",
       "      <td>Notch - EP</td>\n",
       "      <td>38O5Ys0W9PFS5K7dMb7yKb</td>\n",
       "      <td>['FVLCRVM']</td>\n",
       "      <td>['7AjItKsRnEYRSiBt2OxK1y']</td>\n",
       "      <td>5</td>\n",
       "      <td>1</td>\n",
       "      <td>False</td>\n",
       "      <td>0.665</td>\n",
       "      <td>...</td>\n",
       "      <td>0.0409</td>\n",
       "      <td>0.00007</td>\n",
       "      <td>0.776000</td>\n",
       "      <td>0.1170</td>\n",
       "      <td>0.227</td>\n",
       "      <td>124.986</td>\n",
       "      <td>324455</td>\n",
       "      <td>4.0</td>\n",
       "      <td>2014</td>\n",
       "      <td>2014-01-09</td>\n",
       "    </tr>\n",
       "    <tr>\n",
       "      <th>1204024</th>\n",
       "      <td>3GgQmOxxLyRoAb4j86zOBX</td>\n",
       "      <td>That's The Way It Is</td>\n",
       "      <td>Notch - EP</td>\n",
       "      <td>38O5Ys0W9PFS5K7dMb7yKb</td>\n",
       "      <td>['FVLCRVM']</td>\n",
       "      <td>['7AjItKsRnEYRSiBt2OxK1y']</td>\n",
       "      <td>6</td>\n",
       "      <td>1</td>\n",
       "      <td>False</td>\n",
       "      <td>0.736</td>\n",
       "      <td>...</td>\n",
       "      <td>0.0539</td>\n",
       "      <td>0.01680</td>\n",
       "      <td>0.296000</td>\n",
       "      <td>0.2790</td>\n",
       "      <td>0.204</td>\n",
       "      <td>117.991</td>\n",
       "      <td>304982</td>\n",
       "      <td>4.0</td>\n",
       "      <td>2014</td>\n",
       "      <td>2014-01-09</td>\n",
       "    </tr>\n",
       "  </tbody>\n",
       "</table>\n",
       "<p>1204025 rows × 24 columns</p>\n",
       "</div>"
      ],
      "text/plain": [
       "                             id                   name  \\\n",
       "0        7lmeHLHBe4nmXzuXc0HDjk                Testify   \n",
       "1        1wsRitfRRtWyEapl0q22o8        Guerrilla Radio   \n",
       "2        1hR0fIFK2qRG3f3RF70pb7       Calm Like a Bomb   \n",
       "3        2lbASgTSoDO7MTuLAXlTW0              Mic Check   \n",
       "4        1MQTmpYOZ6fcMQc56Hdo7T  Sleep Now In the Fire   \n",
       "...                         ...                    ...   \n",
       "1204020  0EsMifwUmMfJZxzoMPXJKZ         Gospel of Juke   \n",
       "1204021  2WSc2TB1CSJgGE0PEzVeiu          Prism Visions   \n",
       "1204022  6iProIgUe3ETpO6UT0v5Hg              Tokyo 360   \n",
       "1204023  37B4SXC8uoBsUyKCWnhPfX                 Yummy!   \n",
       "1204024  3GgQmOxxLyRoAb4j86zOBX   That's The Way It Is   \n",
       "\n",
       "                             album                album_id  \\\n",
       "0        The Battle Of Los Angeles  2eia0myWFgoHuttJytCxgX   \n",
       "1        The Battle Of Los Angeles  2eia0myWFgoHuttJytCxgX   \n",
       "2        The Battle Of Los Angeles  2eia0myWFgoHuttJytCxgX   \n",
       "3        The Battle Of Los Angeles  2eia0myWFgoHuttJytCxgX   \n",
       "4        The Battle Of Los Angeles  2eia0myWFgoHuttJytCxgX   \n",
       "...                            ...                     ...   \n",
       "1204020                 Notch - EP  38O5Ys0W9PFS5K7dMb7yKb   \n",
       "1204021                 Notch - EP  38O5Ys0W9PFS5K7dMb7yKb   \n",
       "1204022                 Notch - EP  38O5Ys0W9PFS5K7dMb7yKb   \n",
       "1204023                 Notch - EP  38O5Ys0W9PFS5K7dMb7yKb   \n",
       "1204024                 Notch - EP  38O5Ys0W9PFS5K7dMb7yKb   \n",
       "\n",
       "                              artists                  artist_ids  \\\n",
       "0        ['Rage Against The Machine']  ['2d0hyoQ5ynDBnkvAbJKORj']   \n",
       "1        ['Rage Against The Machine']  ['2d0hyoQ5ynDBnkvAbJKORj']   \n",
       "2        ['Rage Against The Machine']  ['2d0hyoQ5ynDBnkvAbJKORj']   \n",
       "3        ['Rage Against The Machine']  ['2d0hyoQ5ynDBnkvAbJKORj']   \n",
       "4        ['Rage Against The Machine']  ['2d0hyoQ5ynDBnkvAbJKORj']   \n",
       "...                               ...                         ...   \n",
       "1204020                   ['FVLCRVM']  ['7AjItKsRnEYRSiBt2OxK1y']   \n",
       "1204021                   ['FVLCRVM']  ['7AjItKsRnEYRSiBt2OxK1y']   \n",
       "1204022                   ['FVLCRVM']  ['7AjItKsRnEYRSiBt2OxK1y']   \n",
       "1204023                   ['FVLCRVM']  ['7AjItKsRnEYRSiBt2OxK1y']   \n",
       "1204024                   ['FVLCRVM']  ['7AjItKsRnEYRSiBt2OxK1y']   \n",
       "\n",
       "         track_number  disc_number  explicit  danceability  ...  speechiness  \\\n",
       "0                   1            1     False         0.470  ...       0.0727   \n",
       "1                   2            1      True         0.599  ...       0.1880   \n",
       "2                   3            1     False         0.315  ...       0.4830   \n",
       "3                   4            1      True         0.440  ...       0.2370   \n",
       "4                   5            1     False         0.426  ...       0.0701   \n",
       "...               ...          ...       ...           ...  ...          ...   \n",
       "1204020             2            1     False         0.264  ...       0.0672   \n",
       "1204021             3            1     False         0.796  ...       0.0883   \n",
       "1204022             4            1     False         0.785  ...       0.0564   \n",
       "1204023             5            1     False         0.665  ...       0.0409   \n",
       "1204024             6            1     False         0.736  ...       0.0539   \n",
       "\n",
       "         acousticness  instrumentalness  liveness  valence    tempo  \\\n",
       "0             0.02610          0.000011    0.3560    0.503  117.906   \n",
       "1             0.01290          0.000071    0.1550    0.489  103.680   \n",
       "2             0.02340          0.000002    0.1220    0.370  149.749   \n",
       "3             0.16300          0.000004    0.1210    0.574   96.752   \n",
       "4             0.00162          0.105000    0.0789    0.539  127.059   \n",
       "...               ...               ...       ...      ...      ...   \n",
       "1204020       0.00935          0.002240    0.3370    0.415  159.586   \n",
       "1204021       0.10400          0.644000    0.0749    0.781  121.980   \n",
       "1204022       0.03040          0.918000    0.0664    0.467  121.996   \n",
       "1204023       0.00007          0.776000    0.1170    0.227  124.986   \n",
       "1204024       0.01680          0.296000    0.2790    0.204  117.991   \n",
       "\n",
       "         duration_ms  time_signature  year  release_date  \n",
       "0             210133             4.0  1999    1999-11-02  \n",
       "1             206200             4.0  1999    1999-11-02  \n",
       "2             298893             4.0  1999    1999-11-02  \n",
       "3             213640             4.0  1999    1999-11-02  \n",
       "4             205600             4.0  1999    1999-11-02  \n",
       "...              ...             ...   ...           ...  \n",
       "1204020       276213             4.0  2014    2014-01-09  \n",
       "1204021       363179             4.0  2014    2014-01-09  \n",
       "1204022       385335             4.0  2014    2014-01-09  \n",
       "1204023       324455             4.0  2014    2014-01-09  \n",
       "1204024       304982             4.0  2014    2014-01-09  \n",
       "\n",
       "[1204025 rows x 24 columns]"
      ]
     },
     "execution_count": 3,
     "metadata": {},
     "output_type": "execute_result"
    }
   ],
   "source": [
    "songs"
   ]
  },
  {
   "cell_type": "code",
   "execution_count": 4,
   "id": "ffb2bc6d",
   "metadata": {},
   "outputs": [],
   "source": [
    "song=songs.drop(songs[songs.year==0].index)"
   ]
  },
  {
   "cell_type": "markdown",
   "id": "4c7539a1",
   "metadata": {},
   "source": [
    "# K- means clustering"
   ]
  },
  {
   "cell_type": "code",
   "execution_count": 5,
   "id": "ca4435d8",
   "metadata": {},
   "outputs": [],
   "source": [
    "from sklearn.cluster import KMeans\n",
    "from sklearn.preprocessing import StandardScaler\n",
    "from sklearn.pipeline import Pipeline\n",
    "from sklearn.preprocessing import MinMaxScaler"
   ]
  },
  {
   "cell_type": "code",
   "execution_count": 15,
   "id": "3b10e890",
   "metadata": {},
   "outputs": [],
   "source": [
    "kmeans=KMeans()"
   ]
  },
  {
   "cell_type": "code",
   "execution_count": 23,
   "id": "03136117",
   "metadata": {},
   "outputs": [],
   "source": [
    "from yellowbrick.cluster import KElbowVisualizer"
   ]
  },
  {
   "cell_type": "markdown",
   "id": "553e6530",
   "metadata": {},
   "source": [
    "# Standard Scalar"
   ]
  },
  {
   "cell_type": "code",
   "execution_count": 6,
   "id": "415fd2bf",
   "metadata": {},
   "outputs": [],
   "source": [
    "required_features = ['danceability', 'energy', 'valence', 'tempo']\n",
    "scaler = StandardScaler()\n",
    "X_std = scaler.fit_transform(song[required_features ])"
   ]
  },
  {
   "cell_type": "code",
   "execution_count": 24,
   "id": "48074c85",
   "metadata": {},
   "outputs": [
    {
     "data": {
      "image/png": "[encoded data removed]",
      "text/plain": [
       "<Figure size 576x396 with 2 Axes>"
      ]
     },
     "metadata": {},
     "output_type": "display_data"
    },
    {
     "data": {
      "text/plain": [
       "<AxesSubplot:title={'center':'Distortion Score Elbow for KMeans Clustering'}, xlabel='k', ylabel='distortion score'>"
      ]
     },
     "execution_count": 24,
     "metadata": {},
     "output_type": "execute_result"
    }
   ],
   "source": [
    "visualizer=KElbowVisualizer(kmeans, k=(2,10))\n",
    "visualizer.fit(X_std)\n",
    "visualizer.poof()"
   ]
  },
  {
   "cell_type": "code",
   "execution_count": 7,
   "id": "71e184bb",
   "metadata": {},
   "outputs": [
    {
     "name": "stdout",
     "output_type": "stream",
     "text": [
      "[0.48227341 0.25145658 0.1624083  0.10386171]\n"
     ]
    }
   ],
   "source": [
    "from sklearn.decomposition import PCA\n",
    "pca = PCA(n_components=4)\n",
    "pca.fit(X_std)\n",
    "evr = pca.explained_variance_ratio_\n",
    "print(evr)"
   ]
  },
  {
   "cell_type": "code",
   "execution_count": 25,
   "id": "1318fc0d",
   "metadata": {},
   "outputs": [
    {
     "data": {
      "image/png": "[encoded data removed]",
      "text/plain": [
       "<Figure size 576x396 with 1 Axes>"
      ]
     },
     "metadata": {},
     "output_type": "display_data"
    }
   ],
   "source": [
    "# PCA variance\n",
    "from sklearn.decomposition import PCA\n",
    "from sklearn.pipeline import make_pipeline\n",
    "\n",
    "scaler = StandardScaler()\n",
    "pca = PCA()\n",
    "pipeline = make_pipeline(scaler,pca)\n",
    "pipeline.fit(X_std)\n",
    "\n",
    "plt.bar(range(pca.n_components_), pca.explained_variance_)\n",
    "plt.xlabel('PCA feature')\n",
    "plt.ylabel('variance')\n",
    "plt.show()"
   ]
  },
  {
   "cell_type": "code",
   "execution_count": 26,
   "id": "fd3f7492",
   "metadata": {},
   "outputs": [
    {
     "data": {
      "text/plain": [
       "KMeans(n_clusters=5)"
      ]
     },
     "execution_count": 26,
     "metadata": {},
     "output_type": "execute_result"
    }
   ],
   "source": [
    "from sklearn.cluster import KMeans\n",
    "kmeans=KMeans(n_clusters=5)\n",
    "kmeans"
   ]
  },
  {
   "cell_type": "code",
   "execution_count": 27,
   "id": "94b17d52",
   "metadata": {},
   "outputs": [],
   "source": [
    "k_fit=kmeans.fit(X_std)"
   ]
  },
  {
   "cell_type": "code",
   "execution_count": 28,
   "id": "8bb22327",
   "metadata": {},
   "outputs": [
    {
     "data": {
      "text/plain": [
       "array([0, 0, 4, ..., 3, 0, 0])"
      ]
     },
     "execution_count": 28,
     "metadata": {},
     "output_type": "execute_result"
    }
   ],
   "source": [
    "clusters=k_fit.labels_\n",
    "clusters"
   ]
  },
  {
   "cell_type": "code",
   "execution_count": 41,
   "id": "e751ba1b",
   "metadata": {},
   "outputs": [
    {
     "data": {
      "text/html": [
       "<div>\n",
       "<style scoped>\n",
       "    .dataframe tbody tr th:only-of-type {\n",
       "        vertical-align: middle;\n",
       "    }\n",
       "\n",
       "    .dataframe tbody tr th {\n",
       "        vertical-align: top;\n",
       "    }\n",
       "\n",
       "    .dataframe thead th {\n",
       "        text-align: right;\n",
       "    }\n",
       "</style>\n",
       "<table border=\"1\" class=\"dataframe\">\n",
       "  <thead>\n",
       "    <tr style=\"text-align: right;\">\n",
       "      <th></th>\n",
       "      <th>Cumulative Variance Ratio</th>\n",
       "      <th>Explained Variance Ratio</th>\n",
       "    </tr>\n",
       "  </thead>\n",
       "  <tbody>\n",
       "    <tr>\n",
       "      <th>0</th>\n",
       "      <td>0.482273</td>\n",
       "      <td>0.482273</td>\n",
       "    </tr>\n",
       "    <tr>\n",
       "      <th>1</th>\n",
       "      <td>0.733730</td>\n",
       "      <td>0.251457</td>\n",
       "    </tr>\n",
       "    <tr>\n",
       "      <th>2</th>\n",
       "      <td>0.896138</td>\n",
       "      <td>0.162408</td>\n",
       "    </tr>\n",
       "    <tr>\n",
       "      <th>3</th>\n",
       "      <td>1.000000</td>\n",
       "      <td>0.103862</td>\n",
       "    </tr>\n",
       "  </tbody>\n",
       "</table>\n",
       "</div>"
      ],
      "text/plain": [
       "   Cumulative Variance Ratio  Explained Variance Ratio\n",
       "0                   0.482273                  0.482273\n",
       "1                   0.733730                  0.251457\n",
       "2                   0.896138                  0.162408\n",
       "3                   1.000000                  0.103862"
      ]
     },
     "metadata": {},
     "output_type": "display_data"
    }
   ],
   "source": [
    "cvr = np.cumsum(pca.explained_variance_ratio_)\n",
    "pca_df = pd.DataFrame()\n",
    "pca_df['Cumulative Variance Ratio'] = cvr\n",
    "pca_df['Explained Variance Ratio'] = evr\n",
    "display(pca_df.head(7))"
   ]
  },
  {
   "cell_type": "code",
   "execution_count": null,
   "id": "54f035d7",
   "metadata": {},
   "outputs": [],
   "source": [
    "import plotly.express as px\n",
    "\n",
    "fig = px.scatter(\n",
    "    projection, x='x', y='y', color='cluster', hover_data=['x', 'y', 'title'])\n",
    "fig.show()"
   ]
  },
  {
   "cell_type": "code",
   "execution_count": 14,
   "id": "5032dab5",
   "metadata": {},
   "outputs": [
    {
     "ename": "NameError",
     "evalue": "name 'scores_pca' is not defined",
     "output_type": "error",
     "traceback": [
      "\u001b[1;31m---------------------------------------------------------------------------\u001b[0m",
      "\u001b[1;31mNameError\u001b[0m                                 Traceback (most recent call last)",
      "\u001b[1;32m<ipython-input-14-ad99e0860904>\u001b[0m in \u001b[0;36m<module>\u001b[1;34m\u001b[0m\n\u001b[0;32m      7\u001b[0m \u001b[1;32mfor\u001b[0m \u001b[0mi\u001b[0m \u001b[1;32min\u001b[0m \u001b[0mrange\u001b[0m\u001b[1;33m(\u001b[0m\u001b[1;36m1\u001b[0m\u001b[1;33m,\u001b[0m \u001b[0mmax_clusters\u001b[0m\u001b[1;33m)\u001b[0m\u001b[1;33m:\u001b[0m\u001b[1;33m\u001b[0m\u001b[1;33m\u001b[0m\u001b[0m\n\u001b[0;32m      8\u001b[0m     \u001b[0mkmeans_pca\u001b[0m \u001b[1;33m=\u001b[0m \u001b[0mKMeans\u001b[0m\u001b[1;33m(\u001b[0m\u001b[0mi\u001b[0m\u001b[1;33m,\u001b[0m \u001b[0minit\u001b[0m\u001b[1;33m=\u001b[0m\u001b[1;34m'k-means++'\u001b[0m\u001b[1;33m,\u001b[0m \u001b[0mrandom_state\u001b[0m\u001b[1;33m=\u001b[0m\u001b[1;36m42\u001b[0m\u001b[1;33m)\u001b[0m\u001b[1;33m\u001b[0m\u001b[1;33m\u001b[0m\u001b[0m\n\u001b[1;32m----> 9\u001b[1;33m     \u001b[0mkmeans_pca\u001b[0m\u001b[1;33m.\u001b[0m\u001b[0mfit\u001b[0m\u001b[1;33m(\u001b[0m\u001b[0mscores_pca\u001b[0m\u001b[1;33m)\u001b[0m\u001b[1;33m\u001b[0m\u001b[1;33m\u001b[0m\u001b[0m\n\u001b[0m\u001b[0;32m     10\u001b[0m     \u001b[0mwcss\u001b[0m\u001b[1;33m.\u001b[0m\u001b[0mappend\u001b[0m\u001b[1;33m(\u001b[0m\u001b[0mkmeans_pca\u001b[0m\u001b[1;33m.\u001b[0m\u001b[0minertia_\u001b[0m\u001b[1;33m)\u001b[0m\u001b[1;33m\u001b[0m\u001b[1;33m\u001b[0m\u001b[0m\n\u001b[0;32m     11\u001b[0m \u001b[1;33m\u001b[0m\u001b[0m\n",
      "\u001b[1;31mNameError\u001b[0m: name 'scores_pca' is not defined"
     ]
    }
   ],
   "source": [
    "from kneed import KneeLocator\n",
    "\n",
    "# get within cluster sum of squares for each value of k\n",
    "wcss = []\n",
    "#scores_pca=[][]\n",
    "max_clusters = 21\n",
    "for i in range(1, max_clusters):\n",
    "    kmeans_pca = KMeans(i, init='k-means++', random_state=42)\n",
    "    kmeans_pca.fit(scores_pca)\n",
    "    wcss.append(kmeans_pca.inertia_)\n",
    "      \n",
    "# programmatically locate the elbow\n",
    "n_clusters = KneeLocator([i for i in range(1, max_clusters)], wcss, curve='convex', direction='decreasing').knee\n",
    "print(\"Optimal number of clusters\", n_clusters)\n",
    "    \n",
    "# visualize the curve in order to locate the elbow\n",
    "fig = plt.figure(figsize=(10,8))\n",
    "plt.plot(range(1, 21), wcss, marker='o', linestyle='--')\n",
    "# plt.vlines(n_clusters, ymin=0, ymax=max(wcss), linestyles='dashed')\n",
    "plt.xlabel('Number of Clusters', fontsize=18)\n",
    "plt.ylabel('Within Cluster Sum of Squares (WCSS)', fontsize=18)\n",
    "plt.xticks(fontsize=16)\n",
    "plt.yticks(fontsize=16)\n",
    "plt.show()"
   ]
  },
  {
   "cell_type": "code",
   "execution_count": 37,
   "id": "c3b9ce63",
   "metadata": {},
   "outputs": [
    {
     "name": "stdout",
     "output_type": "stream",
     "text": [
      "KMeans(n_clusters=1, random_state=42)\n",
      "KMeans(n_clusters=2, random_state=42)\n",
      "KMeans(n_clusters=3, random_state=42)\n",
      "KMeans(n_clusters=4, random_state=42)\n",
      "KMeans(n_clusters=5, random_state=42)\n",
      "KMeans(n_clusters=6, random_state=42)\n",
      "KMeans(n_clusters=7, random_state=42)\n",
      "KMeans(random_state=42)\n",
      "KMeans(n_clusters=9, random_state=42)\n",
      "KMeans(n_clusters=10, random_state=42)\n",
      "KMeans(n_clusters=11, random_state=42)\n",
      "KMeans(n_clusters=12, random_state=42)\n",
      "KMeans(n_clusters=13, random_state=42)\n",
      "KMeans(n_clusters=14, random_state=42)\n",
      "KMeans(n_clusters=15, random_state=42)\n",
      "KMeans(n_clusters=16, random_state=42)\n",
      "KMeans(n_clusters=17, random_state=42)\n",
      "KMeans(n_clusters=18, random_state=42)\n",
      "KMeans(n_clusters=19, random_state=42)\n",
      "KMeans(n_clusters=20, random_state=42)\n"
     ]
    }
   ],
   "source": [
    "max_clusters = 21\n",
    "for i in range(1, max_clusters):\n",
    "    kmeans_pca = KMeans(i, init='k-means++', random_state=42)\n",
    "    print(kmeans_pca)"
   ]
  },
  {
   "cell_type": "code",
   "execution_count": null,
   "id": "50248c85",
   "metadata": {},
   "outputs": [],
   "source": []
  }
 ],
 "metadata": {
  "kernelspec": {
   "display_name": "Python 3",
   "language": "python",
   "name": "python3"
  },
  "language_info": {
   "codemirror_mode": {
    "name": "ipython",
    "version": 3
   },
   "file_extension": ".py",
   "mimetype": "text/x-python",
   "name": "python",
   "nbconvert_exporter": "python",
   "pygments_lexer": "ipython3",
   "version": "3.8.8"
  }
 },
 "nbformat": 4,
 "nbformat_minor": 5
}
